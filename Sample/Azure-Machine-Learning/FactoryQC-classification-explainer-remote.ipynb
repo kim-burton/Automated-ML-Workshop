{
 "cells": [
  {
   "cell_type": "markdown",
   "metadata": {},
   "source": [
    "# 自動機械学習 Automated Machine Learning による品質管理モデリング & モデル解釈 (リモート高速実行)\n",
    "\n",
    "1. 事前準備\n",
    "    - Python SDK のインポート\n",
    "    - Azure ML `Workspace` への接続\n",
    "    - `Experiment` の作成\n",
    "    - `Dataset` の作成と登録\n",
    "\n",
    "\n",
    "2. 自動機械学習 Automated Machine Learning\n",
    "    - 計算環境 `Machine Learning Compute` の準備\n",
    "    - 自動機械学習 Automated ML の事前設定\n",
    "    - モデル学習と結果の確認\n",
    "\n",
    "\n",
    "3. モデル解釈"
   ]
  },
  {
   "cell_type": "markdown",
   "metadata": {},
   "source": [
    "## 1. 事前準備\n",
    "### Python SDK のインポート\n",
    "Azure Machine Learning service の Python SDKをインポートします"
   ]
  },
  {
   "cell_type": "code",
   "execution_count": 1,
   "metadata": {},
   "outputs": [],
   "source": [
    "import azureml.core\n",
    "from azureml.core.experiment import Experiment\n",
    "from azureml.core.workspace import Workspace\n",
    "from azureml.core.dataset import Dataset\n",
    "from azureml.train.automl import AutoMLConfig"
   ]
  },
  {
   "cell_type": "code",
   "execution_count": 2,
   "metadata": {},
   "outputs": [
    {
     "data": {
      "text/plain": [
       "'1.0.76'"
      ]
     },
     "execution_count": 2,
     "metadata": {},
     "output_type": "execute_result"
    }
   ],
   "source": [
    "# バージョン確認\n",
    "azureml.core.VERSION"
   ]
  },
  {
   "cell_type": "markdown",
   "metadata": {},
   "source": [
    "その他、分析に必要なライブラリをインポートします。"
   ]
  },
  {
   "cell_type": "code",
   "execution_count": 3,
   "metadata": {},
   "outputs": [],
   "source": [
    "import logging\n",
    "from matplotlib import pyplot as plt\n",
    "import pandas as pd\n",
    "import os"
   ]
  },
  {
   "cell_type": "markdown",
   "metadata": {},
   "source": [
    "### Azure ML workspace との接続\n",
    "Azure Machine Learning との接続を行います。Azure Active Directory の認証が必要です。"
   ]
  },
  {
   "cell_type": "code",
   "execution_count": 4,
   "metadata": {},
   "outputs": [
    {
     "name": "stdout",
     "output_type": "stream",
     "text": [
      "azureml\teastus\tmlservice\teastus\n"
     ]
    }
   ],
   "source": [
    "ws = Workspace.from_config()\n",
    "print(ws.name, ws.location, ws.resource_group, ws.location, sep = '\\t')"
   ]
  },
  {
   "cell_type": "markdown",
   "metadata": {},
   "source": [
    "### 実験名の設定\n",
    "Azure Machine Learing では 実験を管理する仕組みがあります。自動機械学習は自動的にその実験管理の仕組みでメトリックやログが残ります。"
   ]
  },
  {
   "cell_type": "code",
   "execution_count": 5,
   "metadata": {},
   "outputs": [],
   "source": [
    "# choose a name for experiment\n",
    "experiment_name = 'automl-classif-factoryQC-remote'\n",
    "experiment=Experiment(ws, experiment_name)"
   ]
  },
  {
   "cell_type": "markdown",
   "metadata": {},
   "source": [
    "### Dataset として登録\n"
   ]
  },
  {
   "cell_type": "markdown",
   "metadata": {},
   "source": [
    "Azure Machine Learning の計算環境 (Machine Learning Compute) で学習を回すために、Azure Machine Learning の Dataset のフォーマットでデータを定義します。"
   ]
  },
  {
   "cell_type": "code",
   "execution_count": 6,
   "metadata": {},
   "outputs": [
    {
     "name": "stderr",
     "output_type": "stream",
     "text": [
      "/Users/konabuta/miniconda3/envs/azureml1076/lib/python3.6/site-packages/azureml/dataprep/api/dataflow.py:689: UserWarning: Please install pyarrow>=0.11.0 for improved performance of to_pandas_dataframe. You can ensure the correct version is installed by running: pip install azureml-dataprep[pandas].\n",
      "  warnings.warn('Please install pyarrow>=0.11.0 for improved performance of to_pandas_dataframe. '\n"
     ]
    },
    {
     "data": {
      "text/html": [
       "<div>\n",
       "<style scoped>\n",
       "    .dataframe tbody tr th:only-of-type {\n",
       "        vertical-align: middle;\n",
       "    }\n",
       "\n",
       "    .dataframe tbody tr th {\n",
       "        vertical-align: top;\n",
       "    }\n",
       "\n",
       "    .dataframe thead th {\n",
       "        text-align: right;\n",
       "    }\n",
       "</style>\n",
       "<table border=\"1\" class=\"dataframe\">\n",
       "  <thead>\n",
       "    <tr style=\"text-align: right;\">\n",
       "      <th></th>\n",
       "      <th>ID</th>\n",
       "      <th>Quality</th>\n",
       "      <th>ProcessA-Pressure</th>\n",
       "      <th>ProcessA-Humidity</th>\n",
       "      <th>ProcessA-Vibration</th>\n",
       "      <th>ProcessB-Light</th>\n",
       "      <th>ProcessB-Skill</th>\n",
       "      <th>ProcessB-Temp</th>\n",
       "      <th>ProcessB-Rotation</th>\n",
       "      <th>ProcessC-Density</th>\n",
       "      <th>ProcessC-PH</th>\n",
       "      <th>ProcessC-skewness</th>\n",
       "      <th>ProcessC-Time</th>\n",
       "    </tr>\n",
       "  </thead>\n",
       "  <tbody>\n",
       "    <tr>\n",
       "      <th>0</th>\n",
       "      <td>1</td>\n",
       "      <td>0</td>\n",
       "      <td>7.00</td>\n",
       "      <td>0.27</td>\n",
       "      <td>0.36</td>\n",
       "      <td>20.70</td>\n",
       "      <td>0.04</td>\n",
       "      <td>45.00</td>\n",
       "      <td>170.00</td>\n",
       "      <td>1.00</td>\n",
       "      <td>3.00</td>\n",
       "      <td>0.45</td>\n",
       "      <td>8.80</td>\n",
       "    </tr>\n",
       "    <tr>\n",
       "      <th>1</th>\n",
       "      <td>2</td>\n",
       "      <td>0</td>\n",
       "      <td>6.30</td>\n",
       "      <td>0.30</td>\n",
       "      <td>0.34</td>\n",
       "      <td>1.60</td>\n",
       "      <td>0.05</td>\n",
       "      <td>14.00</td>\n",
       "      <td>132.00</td>\n",
       "      <td>0.99</td>\n",
       "      <td>3.30</td>\n",
       "      <td>0.49</td>\n",
       "      <td>9.50</td>\n",
       "    </tr>\n",
       "    <tr>\n",
       "      <th>2</th>\n",
       "      <td>3</td>\n",
       "      <td>0</td>\n",
       "      <td>8.10</td>\n",
       "      <td>0.28</td>\n",
       "      <td>0.40</td>\n",
       "      <td>6.90</td>\n",
       "      <td>0.05</td>\n",
       "      <td>30.00</td>\n",
       "      <td>97.00</td>\n",
       "      <td>1.00</td>\n",
       "      <td>3.26</td>\n",
       "      <td>0.44</td>\n",
       "      <td>10.10</td>\n",
       "    </tr>\n",
       "    <tr>\n",
       "      <th>3</th>\n",
       "      <td>4</td>\n",
       "      <td>0</td>\n",
       "      <td>7.20</td>\n",
       "      <td>0.23</td>\n",
       "      <td>0.32</td>\n",
       "      <td>8.50</td>\n",
       "      <td>0.06</td>\n",
       "      <td>47.00</td>\n",
       "      <td>186.00</td>\n",
       "      <td>1.00</td>\n",
       "      <td>3.19</td>\n",
       "      <td>0.40</td>\n",
       "      <td>9.90</td>\n",
       "    </tr>\n",
       "    <tr>\n",
       "      <th>4</th>\n",
       "      <td>5</td>\n",
       "      <td>0</td>\n",
       "      <td>7.20</td>\n",
       "      <td>0.23</td>\n",
       "      <td>0.32</td>\n",
       "      <td>8.50</td>\n",
       "      <td>0.06</td>\n",
       "      <td>47.00</td>\n",
       "      <td>186.00</td>\n",
       "      <td>1.00</td>\n",
       "      <td>3.19</td>\n",
       "      <td>0.40</td>\n",
       "      <td>9.90</td>\n",
       "    </tr>\n",
       "  </tbody>\n",
       "</table>\n",
       "</div>"
      ],
      "text/plain": [
       "   ID  Quality  ProcessA-Pressure  ProcessA-Humidity  ProcessA-Vibration  \\\n",
       "0   1        0               7.00               0.27                0.36   \n",
       "1   2        0               6.30               0.30                0.34   \n",
       "2   3        0               8.10               0.28                0.40   \n",
       "3   4        0               7.20               0.23                0.32   \n",
       "4   5        0               7.20               0.23                0.32   \n",
       "\n",
       "   ProcessB-Light  ProcessB-Skill  ProcessB-Temp  ProcessB-Rotation  \\\n",
       "0           20.70            0.04          45.00             170.00   \n",
       "1            1.60            0.05          14.00             132.00   \n",
       "2            6.90            0.05          30.00              97.00   \n",
       "3            8.50            0.06          47.00             186.00   \n",
       "4            8.50            0.06          47.00             186.00   \n",
       "\n",
       "   ProcessC-Density  ProcessC-PH  ProcessC-skewness  ProcessC-Time  \n",
       "0              1.00         3.00               0.45           8.80  \n",
       "1              0.99         3.30               0.49           9.50  \n",
       "2              1.00         3.26               0.44          10.10  \n",
       "3              1.00         3.19               0.40           9.90  \n",
       "4              1.00         3.19               0.40           9.90  "
      ]
     },
     "execution_count": 6,
     "metadata": {},
     "output_type": "execute_result"
    }
   ],
   "source": [
    "dataset = Dataset.get_by_name(ws, name='factory')\n",
    "dataset.take(5).to_pandas_dataframe()"
   ]
  },
  {
   "cell_type": "code",
   "execution_count": 7,
   "metadata": {},
   "outputs": [],
   "source": [
    "#予測変数の指定\n",
    "label = 'Quality'"
   ]
  },
  {
   "cell_type": "markdown",
   "metadata": {},
   "source": [
    "### 学習データとテストデータに分割"
   ]
  },
  {
   "cell_type": "markdown",
   "metadata": {},
   "source": [
    "学習データとテストデータに分割します。テストデータはモデル学習ではなく、後半のモデル解釈のローカル解釈の中で利用します。"
   ]
  },
  {
   "cell_type": "code",
   "execution_count": 8,
   "metadata": {},
   "outputs": [],
   "source": [
    "train_dataset, test_dataset = dataset.random_split(0.8, seed=1234)"
   ]
  },
  {
   "cell_type": "code",
   "execution_count": 9,
   "metadata": {},
   "outputs": [],
   "source": [
    "train_dataset = train_dataset.register(workspace = ws, name = 'FactoryTrain', description = 'Factory AutoML workshop', create_new_version=True)\n",
    "test_dataset = test_dataset.register(workspace = ws, name = 'FactoryTest', description = 'Factory AutoML workshop', create_new_version=True)"
   ]
  },
  {
   "cell_type": "markdown",
   "metadata": {},
   "source": [
    "### 計算環境 (Machine Learning Compute) の設定"
   ]
  },
  {
   "cell_type": "code",
   "execution_count": 10,
   "metadata": {},
   "outputs": [],
   "source": [
    "# 予め cpucluster という名称の Machine Learning Compute を作成しておく\n",
    "from azureml.core.compute import ComputeTarget\n",
    "compute_target = ComputeTarget(ws, \"cpucluster\")"
   ]
  },
  {
   "cell_type": "markdown",
   "metadata": {},
   "source": [
    "## 2. 自動機械学習 Automated Machine Learning\n",
    "### 学習事前設定"
   ]
  },
  {
   "cell_type": "code",
   "execution_count": 11,
   "metadata": {},
   "outputs": [],
   "source": [
    "automl_settings = {\n",
    "    \"iteration_timeout_minutes\": 5, # 各試行の最大実験時間\n",
    "    \"iterations\": 10,  # 試行する機械学習パイプラインの数\n",
    "    #\"max_concurrent_iterations\": 4,\n",
    "    \"max_cores_per_iteration\": -1,\n",
    "    \"n_cross_validations\": 3,\n",
    "    \"primary_metric\": 'accuracy', # 精度指標\n",
    "    \"preprocess\": True,\n",
    "    \"enable_voting_ensemble\": False,\n",
    "    \"enable_stack_ensemble\": False\n",
    "}\n",
    "\n",
    "automl_config = AutoMLConfig(task = 'classification',\n",
    "                             training_data = train_dataset,\n",
    "                             label_column_name = label,                             \n",
    "                             #compute_target=compute_target,\n",
    "                             #model_explainability = True,\n",
    "                             **automl_settings\n",
    "                            )"
   ]
  },
  {
   "cell_type": "markdown",
   "metadata": {},
   "source": [
    "### 実行と結果確認"
   ]
  },
  {
   "cell_type": "markdown",
   "metadata": {},
   "source": [
    "一番最初の実行は Docker Image を作成するため、20 〜 30分ほど時間がかかります。Dokcer Image を Build している様子は Azure Machine Learning studio から確認できます。"
   ]
  },
  {
   "cell_type": "code",
   "execution_count": 12,
   "metadata": {},
   "outputs": [
    {
     "name": "stdout",
     "output_type": "stream",
     "text": [
      "Running on local machine\n"
     ]
    },
    {
     "name": "stderr",
     "output_type": "stream",
     "text": [
      "/Users/konabuta/miniconda3/envs/azureml1076/lib/python3.6/site-packages/lightgbm/__init__.py:48: UserWarning: Starting from version 2.2.1, the library file in distribution wheels for macOS is built by the Apple Clang (Xcode_8.3.3) compiler.\n",
      "This means that in case of installing LightGBM from PyPI via the ``pip install lightgbm`` command, you don't need to install the gcc compiler anymore.\n",
      "Instead of that, you need to install the OpenMP library, which is required for running LightGBM on the system with the Apple Clang compiler.\n",
      "You can install the OpenMP library by the following command: ``brew install libomp``.\n",
      "  \"You can install the OpenMP library by the following command: ``brew install libomp``.\", UserWarning)\n"
     ]
    },
    {
     "name": "stdout",
     "output_type": "stream",
     "text": [
      "Parent Run ID: AutoML_23cbe687-7d8b-411e-a568-693ddae43165\n",
      "\n",
      "Current status: DatasetFeaturization. Beginning to featurize the dataset.\n",
      "Current status: DatasetEvaluation. Gathering dataset statistics.\n",
      "Current status: FeaturesGeneration. Generating features for the dataset.\n",
      "Current status: DatasetFeaturizationCompleted. Completed featurizing the dataset.\n",
      "Current status: DatasetCrossValidationSplit. Generating individually featurized CV splits.\n",
      "\n",
      "****************************************************************************************************\n",
      "DATA GUARDRAILS SUMMARY:\n",
      "For more details, use API: run.get_guardrails()\n",
      "\n",
      "TYPE:         Class balancing detection\n",
      "STATUS:       PASSED\n",
      "DESCRIPTION:  Classes are balanced in the training data.\n",
      "\n",
      "TYPE:         Missing values imputation\n",
      "STATUS:       PASSED\n",
      "DESCRIPTION:  There were no missing values found in the training data.\n",
      "\n",
      "TYPE:         High cardinality feature detection\n",
      "STATUS:       PASSED\n",
      "DESCRIPTION:  Your inputs were analyzed, and no high cardinality features were detected.\n",
      "\n",
      "****************************************************************************************************\n",
      "Current status: ModelSelection. Beginning model selection.\n",
      "\n",
      "****************************************************************************************************\n",
      "ITERATION: The iteration being evaluated.\n",
      "PIPELINE: A summary description of the pipeline being evaluated.\n",
      "DURATION: Time taken for the current iteration.\n",
      "METRIC: The result of computing score on the fitted pipeline.\n",
      "BEST: The best observed score thus far.\n",
      "****************************************************************************************************\n",
      "\n",
      " ITERATION   PIPELINE                                       DURATION      METRIC      BEST\n",
      "         0   StandardScalerWrapper SGD                      0:00:33       0.8072    0.8072\n",
      "         1   StandardScalerWrapper SGD                      0:00:39       0.7911    0.8072\n",
      "         2   MinMaxScaler SGD                               0:00:30       0.7995    0.8072\n",
      "         3   MinMaxScaler RandomForest                      0:00:32       0.7759    0.8072\n",
      "         4   StandardScalerWrapper RandomForest             0:00:35       0.7161    0.8072\n",
      "         5   StandardScalerWrapper SGD                      0:00:28       0.7197    0.8072\n",
      "         6   StandardScalerWrapper ExtremeRandomTrees       0:00:31       0.7810    0.8072\n",
      "         7   MinMaxScaler RandomForest                      0:00:33       0.7120    0.8072\n",
      "         8   StandardScalerWrapper BernoulliNaiveBayes      0:00:29       0.6174    0.8072\n",
      "         9   MinMaxScaler ExtremeRandomTrees                0:00:29       0.7995    0.8072\n"
     ]
    }
   ],
   "source": [
    "remote_run = experiment.submit(automl_config, show_output = True)"
   ]
  },
  {
   "cell_type": "code",
   "execution_count": 13,
   "metadata": {},
   "outputs": [
    {
     "data": {
      "application/vnd.jupyter.widget-view+json": {
       "model_id": "59f4c9536b6f4ed58c5bc60fd0b0d672",
       "version_major": 2,
       "version_minor": 0
      },
      "text/plain": [
       "_AutoMLWidget(widget_settings={'childWidgetDisplay': 'popup', 'send_telemetry': False, 'log_level': 'NOTSET', …"
      ]
     },
     "metadata": {},
     "output_type": "display_data"
    },
    {
     "data": {
      "application/aml.mini.widget.v1": "{\"status\": \"Completed\", \"workbench_run_details_uri\": \"https://ml.azure.com/experiments/automl-classif-factoryQC-remote/runs/AutoML_23cbe687-7d8b-411e-a568-693ddae43165?wsid=/subscriptions/9c0f91b8-eb2f-484c-979c-15848c098a6b/resourcegroups/mlservice/workspaces/azureml\", \"run_id\": \"AutoML_23cbe687-7d8b-411e-a568-693ddae43165\", \"run_properties\": {\"run_id\": \"AutoML_23cbe687-7d8b-411e-a568-693ddae43165\", \"created_utc\": \"2019-12-11T09:58:09.958432Z\", \"properties\": {\"num_iterations\": \"10\", \"training_type\": \"TrainFull\", \"acquisition_function\": \"EI\", \"primary_metric\": \"accuracy\", \"train_split\": \"0\", \"MaxTimeSeconds\": \"300\", \"acquisition_parameter\": \"0\", \"num_cross_validation\": \"3\", \"target\": \"local\", \"RawAMLSettingsString\": \"{'name': 'automl-classif-factoryQC-remote', 'path': '.', 'subscription_id': '9c0f91b8-eb2f-484c-979c-15848c098a6b', 'resource_group': 'mlservice', 'workspace_name': 'azureml', 'region': 'eastus', 'compute_target': 'local', 'spark_service': None, 'azure_service': None, 'iterations': 10, 'primary_metric': 'accuracy', 'task_type': 'classification', 'data_script': None, 'validation_size': 0.0, 'n_cross_validations': 3, 'y_min': None, 'y_max': None, 'num_classes': 2, 'featurization': 'auto', 'preprocess': True, 'lag_length': 0, 'is_timeseries': False, 'max_cores_per_iteration': -1, 'max_concurrent_iterations': 1, 'iteration_timeout_minutes': 5, 'mem_in_mb': None, 'enforce_time_on_windows': False, 'experiment_timeout_minutes': None, 'experiment_exit_score': None, 'whitelist_models': None, 'blacklist_algos': ['XGBoostClassifier', 'Prophet'], 'supported_models': ['KNN', 'LinearSVM', 'LogisticRegression', 'MultinomialNaiveBayes', 'ExtremeRandomTrees', 'SVM', 'DecisionTree', 'AveragedPerceptronClassifier', 'GradientBoosting', 'TensorFlowDNN', 'LightGBM', 'TensorFlowLinearClassifier', 'XGBoostClassifier', 'RandomForest', 'BernoulliNaiveBayes', 'SGD', 'LinearSVMClassifier'], 'auto_blacklist': True, 'blacklist_samples_reached': False, 'exclude_nan_labels': True, 'verbosity': 20, 'debug_log': 'automl.log', 'show_warnings': False, 'model_explainability': False, 'service_url': None, 'sdk_url': None, 'sdk_packages': None, 'enable_onnx_compatible_models': False, 'enable_split_onnx_featurizer_estimator_models': False, 'vm_type': None, 'telemetry_verbosity': 'NOTSET', 'send_telemetry': False, 'enable_dnn': False, 'enable_feature_sweeping': True, 'enable_early_stopping': False, 'early_stopping_n_iters': 10, 'metrics': None, 'enable_ensembling': False, 'enable_stack_ensembling': False, 'ensemble_iterations': 10, 'enable_tf': False, 'enable_cache': True, 'enable_subsampling': False, 'subsample_seed': None, 'enable_nimbusml': False, 'enable_streaming': False, 'label_column_name': 'Quality', 'weight_column_name': None, 'cost_mode': 0, 'metric_operation': 'maximize'}\", \"AMLSettingsJsonString\": \"{\\\"name\\\":\\\"automl-classif-factoryQC-remote\\\",\\\"path\\\":\\\".\\\",\\\"subscription_id\\\":\\\"9c0f91b8-eb2f-484c-979c-15848c098a6b\\\",\\\"resource_group\\\":\\\"mlservice\\\",\\\"workspace_name\\\":\\\"azureml\\\",\\\"region\\\":\\\"eastus\\\",\\\"compute_target\\\":\\\"local\\\",\\\"spark_service\\\":null,\\\"azure_service\\\":null,\\\"iterations\\\":10,\\\"primary_metric\\\":\\\"accuracy\\\",\\\"task_type\\\":\\\"classification\\\",\\\"data_script\\\":null,\\\"validation_size\\\":0.0,\\\"n_cross_validations\\\":3,\\\"y_min\\\":null,\\\"y_max\\\":null,\\\"num_classes\\\":2,\\\"featurization\\\":\\\"auto\\\",\\\"preprocess\\\":true,\\\"lag_length\\\":0,\\\"is_timeseries\\\":false,\\\"max_cores_per_iteration\\\":-1,\\\"max_concurrent_iterations\\\":1,\\\"iteration_timeout_minutes\\\":5,\\\"mem_in_mb\\\":null,\\\"enforce_time_on_windows\\\":false,\\\"experiment_timeout_minutes\\\":null,\\\"experiment_exit_score\\\":null,\\\"whitelist_models\\\":null,\\\"blacklist_algos\\\":[\\\"XGBoostClassifier\\\",\\\"Prophet\\\",\\\"AutoArima\\\"],\\\"supported_models\\\":[\\\"KNN\\\",\\\"LinearSVM\\\",\\\"LogisticRegression\\\",\\\"MultinomialNaiveBayes\\\",\\\"ExtremeRandomTrees\\\",\\\"SVM\\\",\\\"DecisionTree\\\",\\\"AveragedPerceptronClassifier\\\",\\\"GradientBoosting\\\",\\\"TensorFlowDNN\\\",\\\"LightGBM\\\",\\\"TensorFlowLinearClassifier\\\",\\\"XGBoostClassifier\\\",\\\"RandomForest\\\",\\\"BernoulliNaiveBayes\\\",\\\"SGD\\\",\\\"LinearSVMClassifier\\\"],\\\"auto_blacklist\\\":true,\\\"blacklist_samples_reached\\\":false,\\\"exclude_nan_labels\\\":true,\\\"verbosity\\\":20,\\\"debug_log\\\":\\\"automl.log\\\",\\\"show_warnings\\\":false,\\\"model_explainability\\\":false,\\\"service_url\\\":null,\\\"sdk_url\\\":null,\\\"sdk_packages\\\":null,\\\"enable_onnx_compatible_models\\\":false,\\\"enable_split_onnx_featurizer_estimator_models\\\":false,\\\"vm_type\\\":null,\\\"telemetry_verbosity\\\":\\\"NOTSET\\\",\\\"send_telemetry\\\":false,\\\"enable_dnn\\\":false,\\\"enable_feature_sweeping\\\":true,\\\"enable_early_stopping\\\":false,\\\"early_stopping_n_iters\\\":10,\\\"metrics\\\":null,\\\"enable_ensembling\\\":false,\\\"enable_stack_ensembling\\\":false,\\\"ensemble_iterations\\\":10,\\\"enable_tf\\\":false,\\\"enable_cache\\\":true,\\\"enable_subsampling\\\":false,\\\"subsample_seed\\\":null,\\\"enable_nimbusml\\\":false,\\\"enable_streaming\\\":false,\\\"label_column_name\\\":\\\"Quality\\\",\\\"weight_column_name\\\":null,\\\"cost_mode\\\":0,\\\"metric_operation\\\":\\\"maximize\\\"}\", \"DataPrepJsonString\": null, \"EnableSubsampling\": \"False\", \"runTemplate\": \"AutoML\", \"azureml.runsource\": \"automl\", \"display_task_type\": \"classification\", \"dependencies_versions\": \"{\\\"azureml-widgets\\\": \\\"1.0.76\\\", \\\"azureml-train\\\": \\\"1.0.76\\\", \\\"azureml-train-restclients-hyperdrive\\\": \\\"1.0.76\\\", \\\"azureml-train-core\\\": \\\"1.0.76\\\", \\\"azureml-train-automl\\\": \\\"1.0.76\\\", \\\"azureml-train-automl-runtime\\\": \\\"1.0.76.1\\\", \\\"azureml-train-automl-client\\\": \\\"1.0.76\\\", \\\"azureml-tensorboard\\\": \\\"1.0.76\\\", \\\"azureml-telemetry\\\": \\\"1.0.76\\\", \\\"azureml-sdk\\\": \\\"1.0.76\\\", \\\"azureml-pipeline\\\": \\\"1.0.76\\\", \\\"azureml-pipeline-steps\\\": \\\"1.0.76\\\", \\\"azureml-pipeline-core\\\": \\\"1.0.76\\\", \\\"azureml-model-management-sdk\\\": \\\"1.0.1b6.post1\\\", \\\"azureml-interpret\\\": \\\"1.0.76\\\", \\\"azureml-explain-model\\\": \\\"1.0.76\\\", \\\"azureml-defaults\\\": \\\"1.0.76\\\", \\\"azureml-dataprep\\\": \\\"1.1.31\\\", \\\"azureml-dataprep-native\\\": \\\"13.1.0\\\", \\\"azureml-core\\\": \\\"1.0.76\\\", \\\"azureml-contrib-services\\\": \\\"1.0.76\\\", \\\"azureml-contrib-server\\\": \\\"1.0.76\\\", \\\"azureml-contrib-pipeline-steps\\\": \\\"1.0.76\\\", \\\"azureml-contrib-notebook\\\": \\\"1.0.76\\\", \\\"azureml-contrib-interpret\\\": \\\"1.0.76\\\", \\\"azureml-automl-runtime\\\": \\\"1.0.76.1\\\", \\\"azureml-automl-core\\\": \\\"1.0.76\\\"}\", \"ProblemInfoJsonString\": \"{\\\"dataset_num_categorical\\\": 0, \\\"is_sparse\\\": false, \\\"subsampling\\\": false, \\\"dataset_classes\\\": 2, \\\"dataset_features\\\": 12, \\\"dataset_samples\\\": 3931, \\\"single_frequency_class_detected\\\": false}\", \"azureml.git.repository_uri\": \"https://github.com/konabuta/Automated-ML-Workshop.git\", \"mlflow.source.git.repoURL\": \"https://github.com/konabuta/Automated-ML-Workshop.git\", \"azureml.git.branch\": \"1211\", \"mlflow.source.git.branch\": \"1211\", \"azureml.git.commit\": \"6e4f1a3f1cee2ebd28355d975fb9424fc3070a7a\", \"mlflow.source.git.commit\": \"6e4f1a3f1cee2ebd28355d975fb9424fc3070a7a\", \"azureml.git.dirty\": \"True\"}, \"tags\": {\"model_explain_run\": \"best_run\", \"experiment_status\": \"ModelSelection\", \"experiment_status_descr\": \"Beginning model selection.\"}, \"end_time_utc\": \"2019-12-11T10:03:57.654241Z\", \"status\": \"Completed\", \"log_files\": {}, \"log_groups\": [], \"run_duration\": \"0:05:47\"}, \"child_runs\": [{\"run_id\": \"AutoML_23cbe687-7d8b-411e-a568-693ddae43165_0\", \"run_number\": 543, \"metric\": null, \"status\": \"Completed\", \"run_type\": null, \"training_percent\": \"100\", \"start_time\": \"2019-12-11T09:58:32.771939Z\", \"end_time\": \"2019-12-11T09:58:54.806163Z\", \"created_time\": \"2019-12-11T09:58:31.382102Z\", \"created_time_dt\": \"2019-12-11T09:58:31.382102Z\", \"duration\": \"0:00:23\", \"iteration\": \"0\", \"goal\": \"accuracy_max\", \"run_name\": \"StandardScalerWrapper, SGD\", \"run_properties\": \"<automl.client.core.runtime.model_wrappers.StandardScalerWrapper object at 0x11f06f1d0\", \"primary_metric\": 0.80717301, \"best_metric\": 0.80717301}, {\"run_id\": \"AutoML_23cbe687-7d8b-411e-a568-693ddae43165_1\", \"run_number\": 544, \"metric\": null, \"status\": \"Completed\", \"run_type\": null, \"training_percent\": \"100\", \"start_time\": \"2019-12-11T09:59:06.910937Z\", \"end_time\": \"2019-12-11T09:59:37.258554Z\", \"created_time\": \"2019-12-11T09:59:05.261245Z\", \"created_time_dt\": \"2019-12-11T09:59:05.261245Z\", \"duration\": \"0:00:31\", \"iteration\": \"1\", \"goal\": \"accuracy_max\", \"run_name\": \"StandardScalerWrapper, SGD\", \"run_properties\": \"<automl.client.core.runtime.model_wrappers.StandardScalerWrapper object at 0x11f0047f0\", \"primary_metric\": 0.79114403, \"best_metric\": 0.80717301}, {\"run_id\": \"AutoML_23cbe687-7d8b-411e-a568-693ddae43165_2\", \"run_number\": 545, \"metric\": null, \"status\": \"Completed\", \"run_type\": null, \"training_percent\": \"100\", \"start_time\": \"2019-12-11T09:59:45.670922Z\", \"end_time\": \"2019-12-11T10:00:06.513253Z\", \"created_time\": \"2019-12-11T09:59:44.454976Z\", \"created_time_dt\": \"2019-12-11T09:59:44.454976Z\", \"duration\": \"0:00:22\", \"iteration\": \"2\", \"goal\": \"accuracy_max\", \"run_name\": \"MinMaxScaler, SGD\", \"run_properties\": \"copy=True, feature_range=(0, 1\", \"primary_metric\": 0.79954098, \"best_metric\": 0.80717301}, {\"run_id\": \"AutoML_23cbe687-7d8b-411e-a568-693ddae43165_3\", \"run_number\": 546, \"metric\": null, \"status\": \"Completed\", \"run_type\": null, \"training_percent\": \"100\", \"start_time\": \"2019-12-11T10:00:17.990618Z\", \"end_time\": \"2019-12-11T10:00:40.055757Z\", \"created_time\": \"2019-12-11T10:00:16.54311Z\", \"created_time_dt\": \"2019-12-11T10:00:16.54311Z\", \"duration\": \"0:00:23\", \"iteration\": \"3\", \"goal\": \"accuracy_max\", \"run_name\": \"MinMaxScaler, RandomForest\", \"run_properties\": \"copy=True, feature_range=(0, 1\", \"primary_metric\": 0.77588365, \"best_metric\": 0.80717301}, {\"run_id\": \"AutoML_23cbe687-7d8b-411e-a568-693ddae43165_4\", \"run_number\": 547, \"metric\": null, \"status\": \"Completed\", \"run_type\": null, \"training_percent\": \"100\", \"start_time\": \"2019-12-11T10:00:49.023191Z\", \"end_time\": \"2019-12-11T10:01:14.66106Z\", \"created_time\": \"2019-12-11T10:00:47.76127Z\", \"created_time_dt\": \"2019-12-11T10:00:47.76127Z\", \"duration\": \"0:00:26\", \"iteration\": \"4\", \"goal\": \"accuracy_max\", \"run_name\": \"StandardScalerWrapper, RandomForest\", \"run_properties\": \"<automl.client.core.runtime.model_wrappers.StandardScalerWrapper object at 0x11f0f8a58\", \"primary_metric\": 0.71610332, \"best_metric\": 0.80717301}, {\"run_id\": \"AutoML_23cbe687-7d8b-411e-a568-693ddae43165_5\", \"run_number\": 548, \"metric\": null, \"status\": \"Completed\", \"run_type\": null, \"training_percent\": \"100\", \"start_time\": \"2019-12-11T10:01:24.221269Z\", \"end_time\": \"2019-12-11T10:01:43.74306Z\", \"created_time\": \"2019-12-11T10:01:23.078394Z\", \"created_time_dt\": \"2019-12-11T10:01:23.078394Z\", \"duration\": \"0:00:20\", \"iteration\": \"5\", \"goal\": \"accuracy_max\", \"run_name\": \"StandardScalerWrapper, SGD\", \"run_properties\": \"<automl.client.core.runtime.model_wrappers.StandardScalerWrapper object at 0x11f0d69b0\", \"primary_metric\": 0.71966333, \"best_metric\": 0.80717301}, {\"run_id\": \"AutoML_23cbe687-7d8b-411e-a568-693ddae43165_6\", \"run_number\": 549, \"metric\": null, \"status\": \"Completed\", \"run_type\": null, \"training_percent\": \"100\", \"start_time\": \"2019-12-11T10:01:52.363864Z\", \"end_time\": \"2019-12-11T10:02:15.174413Z\", \"created_time\": \"2019-12-11T10:01:51.098804Z\", \"created_time_dt\": \"2019-12-11T10:01:51.098804Z\", \"duration\": \"0:00:24\", \"iteration\": \"6\", \"goal\": \"accuracy_max\", \"run_name\": \"StandardScalerWrapper, ExtremeRandomTrees\", \"run_properties\": \"<automl.client.core.runtime.model_wrappers.StandardScalerWrapper object at 0x11cba4c50\", \"primary_metric\": 0.78097251, \"best_metric\": 0.80717301}, {\"run_id\": \"AutoML_23cbe687-7d8b-411e-a568-693ddae43165_7\", \"run_number\": 550, \"metric\": null, \"status\": \"Completed\", \"run_type\": null, \"training_percent\": \"100\", \"start_time\": \"2019-12-11T10:02:27.586457Z\", \"end_time\": \"2019-12-11T10:02:49.034397Z\", \"created_time\": \"2019-12-11T10:02:25.927094Z\", \"created_time_dt\": \"2019-12-11T10:02:25.927094Z\", \"duration\": \"0:00:23\", \"iteration\": \"7\", \"goal\": \"accuracy_max\", \"run_name\": \"MinMaxScaler, RandomForest\", \"run_properties\": \"copy=True, feature_range=(0, 1\", \"primary_metric\": 0.71203265, \"best_metric\": 0.80717301}, {\"run_id\": \"AutoML_23cbe687-7d8b-411e-a568-693ddae43165_8\", \"run_number\": 551, \"metric\": null, \"status\": \"Completed\", \"run_type\": null, \"training_percent\": \"100\", \"start_time\": \"2019-12-11T10:02:58.388901Z\", \"end_time\": \"2019-12-11T10:03:18.779008Z\", \"created_time\": \"2019-12-11T10:02:56.933695Z\", \"created_time_dt\": \"2019-12-11T10:02:56.933695Z\", \"duration\": \"0:00:21\", \"iteration\": \"8\", \"goal\": \"accuracy_max\", \"run_name\": \"StandardScalerWrapper, BernoulliNaiveBayes\", \"run_properties\": \"<automl.client.core.runtime.model_wrappers.StandardScalerWrapper object at 0x11f0b0c88\", \"primary_metric\": 0.61739577, \"best_metric\": 0.80717301}, {\"run_id\": \"AutoML_23cbe687-7d8b-411e-a568-693ddae43165_9\", \"run_number\": 552, \"metric\": null, \"status\": \"Completed\", \"run_type\": null, \"training_percent\": \"100\", \"start_time\": \"2019-12-11T10:03:27.9498Z\", \"end_time\": \"2019-12-11T10:03:48.789253Z\", \"created_time\": \"2019-12-11T10:03:26.515281Z\", \"created_time_dt\": \"2019-12-11T10:03:26.515281Z\", \"duration\": \"0:00:22\", \"iteration\": \"9\", \"goal\": \"accuracy_max\", \"run_name\": \"MinMaxScaler, ExtremeRandomTrees\", \"run_properties\": \"copy=True, feature_range=(0, 1\", \"primary_metric\": 0.79954059, \"best_metric\": 0.80717301}], \"children_metrics\": {\"categories\": [0], \"series\": {\"accuracy\": [{\"categories\": [\"0\", \"1\", \"2\", \"3\", \"4\", \"5\", \"6\", \"7\", \"8\", \"9\"], \"mode\": \"markers\", \"name\": \"accuracy\", \"stepped\": false, \"type\": \"scatter\", \"data\": [0.8071730105216576, 0.7911440288962255, 0.799540975461111, 0.7758836464987006, 0.7161033183689393, 0.719663330247291, 0.7809725109321595, 0.7120326538217432, 0.6173957684342507, 0.7995405872796827]}, {\"categories\": [\"0\", \"1\", \"2\", \"3\", \"4\", \"5\", \"6\", \"7\", \"8\", \"9\"], \"mode\": \"lines\", \"name\": \"accuracy_max\", \"stepped\": true, \"type\": \"scatter\", \"data\": [0.8071730105216576, 0.8071730105216576, 0.8071730105216576, 0.8071730105216576, 0.8071730105216576, 0.8071730105216576, 0.8071730105216576, 0.8071730105216576, 0.8071730105216576, 0.8071730105216576]}], \"recall_score_macro\": [{\"categories\": [\"0\", \"1\", \"2\", \"3\", \"4\", \"5\", \"6\", \"7\", \"8\", \"9\"], \"mode\": \"markers\", \"name\": \"recall_score_macro\", \"stepped\": false, \"type\": \"scatter\", \"data\": [0.6053847691039075, 0.6170945476694684, 0.5996275494745356, 0.770582069413004, 0.7142901061722081, 0.730748749276227, 0.5, 0.7146030655220268, 0.6635357038761552, 0.5685562954419017]}, {\"categories\": [\"0\", \"1\", \"2\", \"3\", \"4\", \"5\", \"6\", \"7\", \"8\", \"9\"], \"mode\": \"lines\", \"name\": \"recall_score_macro_max\", \"stepped\": true, \"type\": \"scatter\", \"data\": [0.6053847691039075, 0.6170945476694684, 0.6170945476694684, 0.770582069413004, 0.770582069413004, 0.770582069413004, 0.770582069413004, 0.770582069413004, 0.770582069413004, 0.770582069413004]}], \"recall_score_micro\": [{\"categories\": [\"0\", \"1\", \"2\", \"3\", \"4\", \"5\", \"6\", \"7\", \"8\", \"9\"], \"mode\": \"markers\", \"name\": \"recall_score_micro\", \"stepped\": false, \"type\": \"scatter\", \"data\": [0.8071730105216576, 0.7911440288962255, 0.799540975461111, 0.7758836464987006, 0.7161033183689393, 0.719663330247291, 0.7809725109321595, 0.7120326538217432, 0.6173957684342507, 0.7995405872796827]}, {\"categories\": [\"0\", \"1\", \"2\", \"3\", \"4\", \"5\", \"6\", \"7\", \"8\", \"9\"], \"mode\": \"lines\", \"name\": \"recall_score_micro_max\", \"stepped\": true, \"type\": \"scatter\", \"data\": [0.8071730105216576, 0.8071730105216576, 0.8071730105216576, 0.8071730105216576, 0.8071730105216576, 0.8071730105216576, 0.8071730105216576, 0.8071730105216576, 0.8071730105216576, 0.8071730105216576]}], \"f1_score_weighted\": [{\"categories\": [\"0\", \"1\", \"2\", \"3\", \"4\", \"5\", \"6\", \"7\", \"8\", \"9\"], \"mode\": \"markers\", \"name\": \"f1_score_weighted\", \"stepped\": false, \"type\": \"scatter\", \"data\": [0.7709202924835806, 0.7666811639899421, 0.764500454073739, 0.7905815276123653, 0.737689760081893, 0.7417280270590636, 0.6849286503546912, 0.7343964758482292, 0.6502821545667458, 0.7459987452797252]}, {\"categories\": [\"0\", \"1\", \"2\", \"3\", \"4\", \"5\", \"6\", \"7\", \"8\", \"9\"], \"mode\": \"lines\", \"name\": \"f1_score_weighted_max\", \"stepped\": true, \"type\": \"scatter\", \"data\": [0.7709202924835806, 0.7709202924835806, 0.7709202924835806, 0.7905815276123653, 0.7905815276123653, 0.7905815276123653, 0.7905815276123653, 0.7905815276123653, 0.7905815276123653, 0.7905815276123653]}], \"average_precision_score_weighted\": [{\"categories\": [\"0\", \"1\", \"2\", \"3\", \"4\", \"5\", \"6\", \"7\", \"8\", \"9\"], \"mode\": \"markers\", \"name\": \"average_precision_score_weighted\", \"stepped\": false, \"type\": \"scatter\", \"data\": [0.8324384374026383, 0.8049654581764614, 0.8219311797409535, 0.8773486465106441, 0.8412169672088982, 0.8386337681402627, 0.8570961513689079, 0.8441184454578328, 0.7697664015318861, 0.8397658043537688]}, {\"categories\": [\"0\", \"1\", \"2\", \"3\", \"4\", \"5\", \"6\", \"7\", \"8\", \"9\"], \"mode\": \"lines\", \"name\": \"average_precision_score_weighted_max\", \"stepped\": true, \"type\": \"scatter\", \"data\": [0.8324384374026383, 0.8324384374026383, 0.8324384374026383, 0.8773486465106441, 0.8773486465106441, 0.8773486465106441, 0.8773486465106441, 0.8773486465106441, 0.8773486465106441, 0.8773486465106441]}], \"balanced_accuracy\": [{\"categories\": [\"0\", \"1\", \"2\", \"3\", \"4\", \"5\", \"6\", \"7\", \"8\", \"9\"], \"mode\": \"markers\", \"name\": \"balanced_accuracy\", \"stepped\": false, \"type\": \"scatter\", \"data\": [0.6053847691039075, 0.6170945476694684, 0.5996275494745356, 0.770582069413004, 0.7142901061722081, 0.730748749276227, 0.5, 0.7146030655220268, 0.6635357038761552, 0.5685562954419017]}, {\"categories\": [\"0\", \"1\", \"2\", \"3\", \"4\", \"5\", \"6\", \"7\", \"8\", \"9\"], \"mode\": \"lines\", \"name\": \"balanced_accuracy_max\", \"stepped\": true, \"type\": \"scatter\", \"data\": [0.6053847691039075, 0.6170945476694684, 0.6170945476694684, 0.770582069413004, 0.770582069413004, 0.770582069413004, 0.770582069413004, 0.770582069413004, 0.770582069413004, 0.770582069413004]}], \"precision_score_macro\": [{\"categories\": [\"0\", \"1\", \"2\", \"3\", \"4\", \"5\", \"6\", \"7\", \"8\", \"9\"], \"mode\": \"markers\", \"name\": \"precision_score_macro\", \"stepped\": false, \"type\": \"scatter\", \"data\": [0.7410547667324684, 0.6786008183130475, 0.7121218461061368, 0.7067876582614426, 0.6561153407912165, 0.6659604418439835, 0.39048625546607973, 0.6551458086166825, 0.6120688755650078, 0.7379128830045296]}, {\"categories\": [\"0\", \"1\", \"2\", \"3\", \"4\", \"5\", \"6\", \"7\", \"8\", \"9\"], \"mode\": \"lines\", \"name\": \"precision_score_macro_max\", \"stepped\": true, \"type\": \"scatter\", \"data\": [0.7410547667324684, 0.7410547667324684, 0.7410547667324684, 0.7410547667324684, 0.7410547667324684, 0.7410547667324684, 0.7410547667324684, 0.7410547667324684, 0.7410547667324684, 0.7410547667324684]}], \"average_precision_score_micro\": [{\"categories\": [\"0\", \"1\", \"2\", \"3\", \"4\", \"5\", \"6\", \"7\", \"8\", \"9\"], \"mode\": \"markers\", \"name\": \"average_precision_score_micro\", \"stepped\": false, \"type\": \"scatter\", \"data\": [0.8726275259411338, 0.8538643914103695, 0.8666865362198767, 0.8725597559350217, 0.8003022983805854, 0.7813621477075346, 0.8920681999454164, 0.8109597323031353, 0.6833828263810503, 0.8841664521333475]}, {\"categories\": [\"0\", \"1\", \"2\", \"3\", \"4\", \"5\", \"6\", \"7\", \"8\", \"9\"], \"mode\": \"lines\", \"name\": \"average_precision_score_micro_max\", \"stepped\": true, \"type\": \"scatter\", \"data\": [0.8726275259411338, 0.8726275259411338, 0.8726275259411338, 0.8726275259411338, 0.8726275259411338, 0.8726275259411338, 0.8920681999454164, 0.8920681999454164, 0.8920681999454164, 0.8920681999454164]}], \"AUC_weighted\": [{\"categories\": [\"0\", \"1\", \"2\", \"3\", \"4\", \"5\", \"6\", \"7\", \"8\", \"9\"], \"mode\": \"markers\", \"name\": \"AUC_weighted\", \"stepped\": false, \"type\": \"scatter\", \"data\": [0.7888770218468725, 0.7548394679740668, 0.7756835423415872, 0.8527167646946131, 0.8033839786826289, 0.7923314594276146, 0.8168937741943635, 0.8035499870787094, 0.7042529783954755, 0.7926629846704948]}, {\"categories\": [\"0\", \"1\", \"2\", \"3\", \"4\", \"5\", \"6\", \"7\", \"8\", \"9\"], \"mode\": \"lines\", \"name\": \"AUC_weighted_max\", \"stepped\": true, \"type\": \"scatter\", \"data\": [0.7888770218468725, 0.7888770218468725, 0.7888770218468725, 0.8527167646946131, 0.8527167646946131, 0.8527167646946131, 0.8527167646946131, 0.8527167646946131, 0.8527167646946131, 0.8527167646946131]}], \"precision_score_weighted\": [{\"categories\": [\"0\", \"1\", \"2\", \"3\", \"4\", \"5\", \"6\", \"7\", \"8\", \"9\"], \"mode\": \"markers\", \"name\": \"precision_score_weighted\", \"stepped\": false, \"type\": \"scatter\", \"data\": [0.7856146364352172, 0.7624563533247116, 0.7719091988208723, 0.8270990270144457, 0.7923380067312441, 0.8034183866068699, 0.6099227745040419, 0.792836199973391, 0.7687776700788779, 0.7762160536051758]}, {\"categories\": [\"0\", \"1\", \"2\", \"3\", \"4\", \"5\", \"6\", \"7\", \"8\", \"9\"], \"mode\": \"lines\", \"name\": \"precision_score_weighted_max\", \"stepped\": true, \"type\": \"scatter\", \"data\": [0.7856146364352172, 0.7856146364352172, 0.7856146364352172, 0.8270990270144457, 0.8270990270144457, 0.8270990270144457, 0.8270990270144457, 0.8270990270144457, 0.8270990270144457, 0.8270990270144457]}], \"norm_macro_recall\": [{\"categories\": [\"0\", \"1\", \"2\", \"3\", \"4\", \"5\", \"6\", \"7\", \"8\", \"9\"], \"mode\": \"markers\", \"name\": \"norm_macro_recall\", \"stepped\": false, \"type\": \"scatter\", \"data\": [0.21076953820781488, 0.2341890953389368, 0.19925509894907112, 0.541164138826008, 0.4285802123444163, 0.461497498552454, 0.0, 0.42920613104405353, 0.32707140775231064, 0.13711259088380326]}, {\"categories\": [\"0\", \"1\", \"2\", \"3\", \"4\", \"5\", \"6\", \"7\", \"8\", \"9\"], \"mode\": \"lines\", \"name\": \"norm_macro_recall_max\", \"stepped\": true, \"type\": \"scatter\", \"data\": [0.21076953820781488, 0.2341890953389368, 0.2341890953389368, 0.541164138826008, 0.541164138826008, 0.541164138826008, 0.541164138826008, 0.541164138826008, 0.541164138826008, 0.541164138826008]}], \"AUC_macro\": [{\"categories\": [\"0\", \"1\", \"2\", \"3\", \"4\", \"5\", \"6\", \"7\", \"8\", \"9\"], \"mode\": \"markers\", \"name\": \"AUC_macro\", \"stepped\": false, \"type\": \"scatter\", \"data\": [0.7888770218468725, 0.7548394679740668, 0.7756835423415872, 0.852716764694613, 0.8033839786826288, 0.7923314594276146, 0.8168937741943635, 0.8035499870787094, 0.7042529783954755, 0.7926629846704948]}, {\"categories\": [\"0\", \"1\", \"2\", \"3\", \"4\", \"5\", \"6\", \"7\", \"8\", \"9\"], \"mode\": \"lines\", \"name\": \"AUC_macro_max\", \"stepped\": true, \"type\": \"scatter\", \"data\": [0.7888770218468725, 0.7888770218468725, 0.7888770218468725, 0.852716764694613, 0.852716764694613, 0.852716764694613, 0.852716764694613, 0.852716764694613, 0.852716764694613, 0.852716764694613]}], \"f1_score_micro\": [{\"categories\": [\"0\", \"1\", \"2\", \"3\", \"4\", \"5\", \"6\", \"7\", \"8\", \"9\"], \"mode\": \"markers\", \"name\": \"f1_score_micro\", \"stepped\": false, \"type\": \"scatter\", \"data\": [0.8071730105216576, 0.7911440288962254, 0.799540975461111, 0.7758836464987006, 0.7161033183689393, 0.7196633302472909, 0.7809725109321595, 0.7120326538217432, 0.6173957684342507, 0.7995405872796827]}, {\"categories\": [\"0\", \"1\", \"2\", \"3\", \"4\", \"5\", \"6\", \"7\", \"8\", \"9\"], \"mode\": \"lines\", \"name\": \"f1_score_micro_max\", \"stepped\": true, \"type\": \"scatter\", \"data\": [0.8071730105216576, 0.8071730105216576, 0.8071730105216576, 0.8071730105216576, 0.8071730105216576, 0.8071730105216576, 0.8071730105216576, 0.8071730105216576, 0.8071730105216576, 0.8071730105216576]}], \"precision_score_micro\": [{\"categories\": [\"0\", \"1\", \"2\", \"3\", \"4\", \"5\", \"6\", \"7\", \"8\", \"9\"], \"mode\": \"markers\", \"name\": \"precision_score_micro\", \"stepped\": false, \"type\": \"scatter\", \"data\": [0.8071730105216576, 0.7911440288962255, 0.799540975461111, 0.7758836464987006, 0.7161033183689393, 0.719663330247291, 0.7809725109321595, 0.7120326538217432, 0.6173957684342507, 0.7995405872796827]}, {\"categories\": [\"0\", \"1\", \"2\", \"3\", \"4\", \"5\", \"6\", \"7\", \"8\", \"9\"], \"mode\": \"lines\", \"name\": \"precision_score_micro_max\", \"stepped\": true, \"type\": \"scatter\", \"data\": [0.8071730105216576, 0.8071730105216576, 0.8071730105216576, 0.8071730105216576, 0.8071730105216576, 0.8071730105216576, 0.8071730105216576, 0.8071730105216576, 0.8071730105216576, 0.8071730105216576]}], \"average_precision_score_macro\": [{\"categories\": [\"0\", \"1\", \"2\", \"3\", \"4\", \"5\", \"6\", \"7\", \"8\", \"9\"], \"mode\": \"markers\", \"name\": \"average_precision_score_macro\", \"stepped\": false, \"type\": \"scatter\", \"data\": [0.7288128344448829, 0.6816323180257363, 0.7121303335906388, 0.7808954876035269, 0.7178746241846211, 0.7266097371937513, 0.750530790581351, 0.7247557021522105, 0.6272572909254633, 0.7227881471356512]}, {\"categories\": [\"0\", \"1\", \"2\", \"3\", \"4\", \"5\", \"6\", \"7\", \"8\", \"9\"], \"mode\": \"lines\", \"name\": \"average_precision_score_macro_max\", \"stepped\": true, \"type\": \"scatter\", \"data\": [0.7288128344448829, 0.7288128344448829, 0.7288128344448829, 0.7808954876035269, 0.7808954876035269, 0.7808954876035269, 0.7808954876035269, 0.7808954876035269, 0.7808954876035269, 0.7808954876035269]}], \"f1_score_macro\": [{\"categories\": [\"0\", \"1\", \"2\", \"3\", \"4\", \"5\", \"6\", \"7\", \"8\", \"9\"], \"mode\": \"markers\", \"name\": \"f1_score_macro\", \"stepped\": false, \"type\": \"scatter\", \"data\": [0.622623051907968, 0.6286188287656961, 0.6142793229965681, 0.7212989823016352, 0.6604640679377244, 0.6689781689490092, 0.43850818575481393, 0.6580959523118384, 0.581994535337686, 0.5685119903232962]}, {\"categories\": [\"0\", \"1\", \"2\", \"3\", \"4\", \"5\", \"6\", \"7\", \"8\", \"9\"], \"mode\": \"lines\", \"name\": \"f1_score_macro_max\", \"stepped\": true, \"type\": \"scatter\", \"data\": [0.622623051907968, 0.6286188287656961, 0.6286188287656961, 0.7212989823016352, 0.7212989823016352, 0.7212989823016352, 0.7212989823016352, 0.7212989823016352, 0.7212989823016352, 0.7212989823016352]}], \"AUC_micro\": [{\"categories\": [\"0\", \"1\", \"2\", \"3\", \"4\", \"5\", \"6\", \"7\", \"8\", \"9\"], \"mode\": \"markers\", \"name\": \"AUC_micro\", \"stepped\": false, \"type\": \"scatter\", \"data\": [0.8841509602829278, 0.8669369553471146, 0.8788574247249094, 0.8685845833821858, 0.7975743683893256, 0.7839193626678211, 0.8893837491322363, 0.803235841843272, 0.6819694091838168, 0.882842110911601]}, {\"categories\": [\"0\", \"1\", \"2\", \"3\", \"4\", \"5\", \"6\", \"7\", \"8\", \"9\"], \"mode\": \"lines\", \"name\": \"AUC_micro_max\", \"stepped\": true, \"type\": \"scatter\", \"data\": [0.8841509602829278, 0.8841509602829278, 0.8841509602829278, 0.8841509602829278, 0.8841509602829278, 0.8841509602829278, 0.8893837491322363, 0.8893837491322363, 0.8893837491322363, 0.8893837491322363]}], \"recall_score_weighted\": [{\"categories\": [\"0\", \"1\", \"2\", \"3\", \"4\", \"5\", \"6\", \"7\", \"8\", \"9\"], \"mode\": \"markers\", \"name\": \"recall_score_weighted\", \"stepped\": false, \"type\": \"scatter\", \"data\": [0.8071730105216576, 0.7911440288962255, 0.799540975461111, 0.7758836464987006, 0.7161033183689393, 0.719663330247291, 0.7809725109321595, 0.7120326538217432, 0.6173957684342507, 0.7995405872796827]}, {\"categories\": [\"0\", \"1\", \"2\", \"3\", \"4\", \"5\", \"6\", \"7\", \"8\", \"9\"], \"mode\": \"lines\", \"name\": \"recall_score_weighted_max\", \"stepped\": true, \"type\": \"scatter\", \"data\": [0.8071730105216576, 0.8071730105216576, 0.8071730105216576, 0.8071730105216576, 0.8071730105216576, 0.8071730105216576, 0.8071730105216576, 0.8071730105216576, 0.8071730105216576, 0.8071730105216576]}], \"log_loss\": [{\"categories\": [\"0\", \"1\", \"2\", \"3\", \"4\", \"5\", \"6\", \"7\", \"8\", \"9\"], \"mode\": \"markers\", \"name\": \"log_loss\", \"stepped\": false, \"type\": \"scatter\", \"data\": [0.7352658305397526, 1.036512609569846, 0.43896155608304027, 0.4580134857480738, 0.5630613631670053, 0.5732863852348142, 0.45212545200313614, 0.5598185797006878, 0.6423156452407582, 0.4382931632491851]}, {\"categories\": [\"0\", \"1\", \"2\", \"3\", \"4\", \"5\", \"6\", \"7\", \"8\", \"9\"], \"mode\": \"lines\", \"name\": \"log_loss_min\", \"stepped\": true, \"type\": \"scatter\", \"data\": [0.7352658305397526, 0.7352658305397526, 0.43896155608304027, 0.43896155608304027, 0.43896155608304027, 0.43896155608304027, 0.43896155608304027, 0.43896155608304027, 0.43896155608304027, 0.4382931632491851]}], \"weighted_accuracy\": [{\"categories\": [\"0\", \"1\", \"2\", \"3\", \"4\", \"5\", \"6\", \"7\", \"8\", \"9\"], \"mode\": \"markers\", \"name\": \"weighted_accuracy\", \"stepped\": false, \"type\": \"scatter\", \"data\": [0.9121088265164558, 0.8814526030729292, 0.9034913989166382, 0.7786902477626453, 0.7170763371547206, 0.7139277012636528, 0.9270680859230124, 0.7107259080134588, 0.5934211451283252, 0.9195948078163481]}, {\"categories\": [\"0\", \"1\", \"2\", \"3\", \"4\", \"5\", \"6\", \"7\", \"8\", \"9\"], \"mode\": \"lines\", \"name\": \"weighted_accuracy_max\", \"stepped\": true, \"type\": \"scatter\", \"data\": [0.9121088265164558, 0.9121088265164558, 0.9121088265164558, 0.9121088265164558, 0.9121088265164558, 0.9121088265164558, 0.9270680859230124, 0.9270680859230124, 0.9270680859230124, 0.9270680859230124]}]}, \"metricName\": null, \"primaryMetricName\": \"accuracy\", \"showLegend\": false}, \"run_metrics\": [], \"run_logs\": \"\\nRun is completed.\", \"graph\": {}, \"widget_settings\": {\"childWidgetDisplay\": \"popup\", \"send_telemetry\": false, \"log_level\": \"NOTSET\", \"sdk_version\": \"1.0.76\"}, \"loading\": false}"
     },
     "metadata": {},
     "output_type": "display_data"
    }
   ],
   "source": [
    "# Widget で結果確認\n",
    "from azureml.widgets import RunDetails\n",
    "RunDetails(remote_run).show()"
   ]
  },
  {
   "cell_type": "code",
   "execution_count": 14,
   "metadata": {},
   "outputs": [],
   "source": [
    "# 詳細ログの出力\n",
    "#remote_run.get_details()"
   ]
  },
  {
   "cell_type": "code",
   "execution_count": 15,
   "metadata": {},
   "outputs": [],
   "source": [
    "#remote_run.get_guardrails()"
   ]
  },
  {
   "cell_type": "code",
   "execution_count": 16,
   "metadata": {},
   "outputs": [
    {
     "data": {
      "text/html": [
       "<table style=\"width:100%\"><tr><th>Experiment</th><th>Id</th><th>Type</th><th>Status</th><th>Details Page</th><th>Docs Page</th></tr><tr><td>automl-classif-factoryQC-remote</td><td>AutoML_23cbe687-7d8b-411e-a568-693ddae43165_0</td><td></td><td>Completed</td><td><a href=\"https://ml.azure.com/experiments/automl-classif-factoryQC-remote/runs/AutoML_23cbe687-7d8b-411e-a568-693ddae43165_0?wsid=/subscriptions/9c0f91b8-eb2f-484c-979c-15848c098a6b/resourcegroups/mlservice/workspaces/azureml\" target=\"_blank\" rel=\"noopener\">Link to Azure Machine Learning studio</a></td><td><a href=\"https://docs.microsoft.com/en-us/python/api/azureml-core/azureml.core.run.Run?view=azure-ml-py\" target=\"_blank\" rel=\"noopener\">Link to Documentation</a></td></tr></table>"
      ],
      "text/plain": [
       "Run(Experiment: automl-classif-factoryQC-remote,\n",
       "Id: AutoML_23cbe687-7d8b-411e-a568-693ddae43165_0,\n",
       "Type: None,\n",
       "Status: Completed)"
      ]
     },
     "execution_count": 16,
     "metadata": {},
     "output_type": "execute_result"
    }
   ],
   "source": [
    "best_run, fitted_model = remote_run.get_output()\n",
    "best_run"
   ]
  },
  {
   "cell_type": "markdown",
   "metadata": {},
   "source": [
    "### 機械学習モデルの理解"
   ]
  },
  {
   "cell_type": "code",
   "execution_count": 17,
   "metadata": {},
   "outputs": [
    {
     "data": {
      "text/html": [
       "<div>\n",
       "<style scoped>\n",
       "    .dataframe tbody tr th:only-of-type {\n",
       "        vertical-align: middle;\n",
       "    }\n",
       "\n",
       "    .dataframe tbody tr th {\n",
       "        vertical-align: top;\n",
       "    }\n",
       "\n",
       "    .dataframe thead th {\n",
       "        text-align: right;\n",
       "    }\n",
       "</style>\n",
       "<table border=\"1\" class=\"dataframe\">\n",
       "  <thead>\n",
       "    <tr style=\"text-align: right;\">\n",
       "      <th></th>\n",
       "      <th>0</th>\n",
       "    </tr>\n",
       "  </thead>\n",
       "  <tbody>\n",
       "    <tr>\n",
       "      <th>0</th>\n",
       "      <td>ID_MeanImputer</td>\n",
       "    </tr>\n",
       "    <tr>\n",
       "      <th>1</th>\n",
       "      <td>ProcessA-Pressure_MeanImputer</td>\n",
       "    </tr>\n",
       "    <tr>\n",
       "      <th>2</th>\n",
       "      <td>ProcessA-Humidity_MeanImputer</td>\n",
       "    </tr>\n",
       "    <tr>\n",
       "      <th>3</th>\n",
       "      <td>ProcessA-Vibration_MeanImputer</td>\n",
       "    </tr>\n",
       "    <tr>\n",
       "      <th>4</th>\n",
       "      <td>ProcessB-Light_MeanImputer</td>\n",
       "    </tr>\n",
       "    <tr>\n",
       "      <th>5</th>\n",
       "      <td>ProcessB-Skill_MeanImputer</td>\n",
       "    </tr>\n",
       "    <tr>\n",
       "      <th>6</th>\n",
       "      <td>ProcessB-Temp_MeanImputer</td>\n",
       "    </tr>\n",
       "    <tr>\n",
       "      <th>7</th>\n",
       "      <td>ProcessB-Rotation_MeanImputer</td>\n",
       "    </tr>\n",
       "    <tr>\n",
       "      <th>8</th>\n",
       "      <td>ProcessC-Density_MeanImputer</td>\n",
       "    </tr>\n",
       "    <tr>\n",
       "      <th>9</th>\n",
       "      <td>ProcessC-PH_MeanImputer</td>\n",
       "    </tr>\n",
       "    <tr>\n",
       "      <th>10</th>\n",
       "      <td>ProcessC-skewness_MeanImputer</td>\n",
       "    </tr>\n",
       "    <tr>\n",
       "      <th>11</th>\n",
       "      <td>ProcessC-Time_MeanImputer</td>\n",
       "    </tr>\n",
       "  </tbody>\n",
       "</table>\n",
       "</div>"
      ],
      "text/plain": [
       "                                 0\n",
       "0                   ID_MeanImputer\n",
       "1    ProcessA-Pressure_MeanImputer\n",
       "2    ProcessA-Humidity_MeanImputer\n",
       "3   ProcessA-Vibration_MeanImputer\n",
       "4       ProcessB-Light_MeanImputer\n",
       "5       ProcessB-Skill_MeanImputer\n",
       "6        ProcessB-Temp_MeanImputer\n",
       "7    ProcessB-Rotation_MeanImputer\n",
       "8     ProcessC-Density_MeanImputer\n",
       "9          ProcessC-PH_MeanImputer\n",
       "10   ProcessC-skewness_MeanImputer\n",
       "11       ProcessC-Time_MeanImputer"
      ]
     },
     "execution_count": 17,
     "metadata": {},
     "output_type": "execute_result"
    }
   ],
   "source": [
    "pd.DataFrame(fitted_model.named_steps['datatransformer'].get_engineered_feature_names())"
   ]
  },
  {
   "cell_type": "code",
   "execution_count": 18,
   "metadata": {},
   "outputs": [
    {
     "data": {
      "text/html": [
       "<div>\n",
       "<style scoped>\n",
       "    .dataframe tbody tr th:only-of-type {\n",
       "        vertical-align: middle;\n",
       "    }\n",
       "\n",
       "    .dataframe tbody tr th {\n",
       "        vertical-align: top;\n",
       "    }\n",
       "\n",
       "    .dataframe thead th {\n",
       "        text-align: right;\n",
       "    }\n",
       "</style>\n",
       "<table border=\"1\" class=\"dataframe\">\n",
       "  <thead>\n",
       "    <tr style=\"text-align: right;\">\n",
       "      <th></th>\n",
       "      <th>Dropped</th>\n",
       "      <th>EngineeredFeatureCount</th>\n",
       "      <th>RawFeatureName</th>\n",
       "      <th>Transformations</th>\n",
       "      <th>TypeDetected</th>\n",
       "    </tr>\n",
       "  </thead>\n",
       "  <tbody>\n",
       "    <tr>\n",
       "      <th>0</th>\n",
       "      <td>No</td>\n",
       "      <td>1</td>\n",
       "      <td>ID</td>\n",
       "      <td>[MeanImputer]</td>\n",
       "      <td>Numeric</td>\n",
       "    </tr>\n",
       "    <tr>\n",
       "      <th>1</th>\n",
       "      <td>No</td>\n",
       "      <td>1</td>\n",
       "      <td>ProcessA-Pressure</td>\n",
       "      <td>[MeanImputer]</td>\n",
       "      <td>Numeric</td>\n",
       "    </tr>\n",
       "    <tr>\n",
       "      <th>2</th>\n",
       "      <td>No</td>\n",
       "      <td>1</td>\n",
       "      <td>ProcessA-Humidity</td>\n",
       "      <td>[MeanImputer]</td>\n",
       "      <td>Numeric</td>\n",
       "    </tr>\n",
       "    <tr>\n",
       "      <th>3</th>\n",
       "      <td>No</td>\n",
       "      <td>1</td>\n",
       "      <td>ProcessA-Vibration</td>\n",
       "      <td>[MeanImputer]</td>\n",
       "      <td>Numeric</td>\n",
       "    </tr>\n",
       "    <tr>\n",
       "      <th>4</th>\n",
       "      <td>No</td>\n",
       "      <td>1</td>\n",
       "      <td>ProcessB-Light</td>\n",
       "      <td>[MeanImputer]</td>\n",
       "      <td>Numeric</td>\n",
       "    </tr>\n",
       "    <tr>\n",
       "      <th>5</th>\n",
       "      <td>No</td>\n",
       "      <td>1</td>\n",
       "      <td>ProcessB-Skill</td>\n",
       "      <td>[MeanImputer]</td>\n",
       "      <td>Numeric</td>\n",
       "    </tr>\n",
       "    <tr>\n",
       "      <th>6</th>\n",
       "      <td>No</td>\n",
       "      <td>1</td>\n",
       "      <td>ProcessB-Temp</td>\n",
       "      <td>[MeanImputer]</td>\n",
       "      <td>Numeric</td>\n",
       "    </tr>\n",
       "    <tr>\n",
       "      <th>7</th>\n",
       "      <td>No</td>\n",
       "      <td>1</td>\n",
       "      <td>ProcessB-Rotation</td>\n",
       "      <td>[MeanImputer]</td>\n",
       "      <td>Numeric</td>\n",
       "    </tr>\n",
       "    <tr>\n",
       "      <th>8</th>\n",
       "      <td>No</td>\n",
       "      <td>1</td>\n",
       "      <td>ProcessC-Density</td>\n",
       "      <td>[MeanImputer]</td>\n",
       "      <td>Numeric</td>\n",
       "    </tr>\n",
       "    <tr>\n",
       "      <th>9</th>\n",
       "      <td>No</td>\n",
       "      <td>1</td>\n",
       "      <td>ProcessC-PH</td>\n",
       "      <td>[MeanImputer]</td>\n",
       "      <td>Numeric</td>\n",
       "    </tr>\n",
       "    <tr>\n",
       "      <th>10</th>\n",
       "      <td>No</td>\n",
       "      <td>1</td>\n",
       "      <td>ProcessC-skewness</td>\n",
       "      <td>[MeanImputer]</td>\n",
       "      <td>Numeric</td>\n",
       "    </tr>\n",
       "    <tr>\n",
       "      <th>11</th>\n",
       "      <td>No</td>\n",
       "      <td>1</td>\n",
       "      <td>ProcessC-Time</td>\n",
       "      <td>[MeanImputer]</td>\n",
       "      <td>Numeric</td>\n",
       "    </tr>\n",
       "  </tbody>\n",
       "</table>\n",
       "</div>"
      ],
      "text/plain": [
       "   Dropped  EngineeredFeatureCount      RawFeatureName Transformations  \\\n",
       "0       No                       1                  ID   [MeanImputer]   \n",
       "1       No                       1   ProcessA-Pressure   [MeanImputer]   \n",
       "2       No                       1   ProcessA-Humidity   [MeanImputer]   \n",
       "3       No                       1  ProcessA-Vibration   [MeanImputer]   \n",
       "4       No                       1      ProcessB-Light   [MeanImputer]   \n",
       "5       No                       1      ProcessB-Skill   [MeanImputer]   \n",
       "6       No                       1       ProcessB-Temp   [MeanImputer]   \n",
       "7       No                       1   ProcessB-Rotation   [MeanImputer]   \n",
       "8       No                       1    ProcessC-Density   [MeanImputer]   \n",
       "9       No                       1         ProcessC-PH   [MeanImputer]   \n",
       "10      No                       1   ProcessC-skewness   [MeanImputer]   \n",
       "11      No                       1       ProcessC-Time   [MeanImputer]   \n",
       "\n",
       "   TypeDetected  \n",
       "0       Numeric  \n",
       "1       Numeric  \n",
       "2       Numeric  \n",
       "3       Numeric  \n",
       "4       Numeric  \n",
       "5       Numeric  \n",
       "6       Numeric  \n",
       "7       Numeric  \n",
       "8       Numeric  \n",
       "9       Numeric  \n",
       "10      Numeric  \n",
       "11      Numeric  "
      ]
     },
     "execution_count": 18,
     "metadata": {},
     "output_type": "execute_result"
    }
   ],
   "source": [
    "pd.DataFrame.from_records(fitted_model.named_steps['datatransformer'].get_featurization_summary())"
   ]
  },
  {
   "cell_type": "markdown",
   "metadata": {},
   "source": [
    "## 3. モデル解釈\n",
    "Azure Machine Learning には Automated ML のモデルを解釈する仕組みがあります。詳しくは [モデルを解釈する方法](https://docs.microsoft.com/ja-jp/azure/machine-learning/service/how-to-machine-learning-interpretability#how-to-interpret-your-model)をご参照ください。"
   ]
  },
  {
   "cell_type": "code",
   "execution_count": 19,
   "metadata": {},
   "outputs": [],
   "source": [
    "# Pandas Dataframe に変換\n",
    "train_df = train_dataset.to_pandas_dataframe()\n",
    "test_df = test_dataset.to_pandas_dataframe()"
   ]
  },
  {
   "cell_type": "code",
   "execution_count": 20,
   "metadata": {},
   "outputs": [
    {
     "name": "stdout",
     "output_type": "stream",
     "text": [
      "Current status: Setting up data for AutoML explanations\n",
      "Current status: Setting up the AutoML featurizer\n",
      "Current status: Setting up the AutoML featurization for explanations\n",
      "Current status: Setting up the AutoML estimator\n",
      "Current status: Generating a feature map for raw feature importance\n",
      "Current status: Finding all classes from the dataset\n",
      "Current status: Data for AutoML explanations successfully setup\n"
     ]
    }
   ],
   "source": [
    "from azureml.train.automl.runtime.automl_explain_utilities import AutoMLExplainerSetupClass, automl_setup_model_explanations\n",
    "automl_explainer_setup_obj = automl_setup_model_explanations(fitted_model, \n",
    "                                                             X=train_df.drop([label], axis=1), \n",
    "                                                             X_test=test_df.drop([label], axis=1), \n",
    "                                                             y=train_df[label].values, \n",
    "                                                             task='classification')"
   ]
  },
  {
   "cell_type": "markdown",
   "metadata": {},
   "source": [
    "`MimicWrapper` は **Global Surrogaete Model** によるグローバルなモデル解釈を実現します。ここでは LightGBM を用いています。"
   ]
  },
  {
   "cell_type": "code",
   "execution_count": 21,
   "metadata": {},
   "outputs": [],
   "source": [
    "from azureml.explain.model.mimic.models.lightgbm_model import LGBMExplainableModel\n",
    "from azureml.explain.model.mimic_wrapper import MimicWrapper\n",
    "explainer = MimicWrapper(ws, automl_explainer_setup_obj.automl_estimator, LGBMExplainableModel, \n",
    "                         init_dataset=automl_explainer_setup_obj.X_transform, run=best_run,\n",
    "                         features=automl_explainer_setup_obj.engineered_feature_names, \n",
    "                         feature_maps=[automl_explainer_setup_obj.feature_map],\n",
    "                         classes=automl_explainer_setup_obj.classes)"
   ]
  },
  {
   "cell_type": "markdown",
   "metadata": {},
   "source": [
    "## Engineered Explanation\n",
    "特徴量エンジニアリングで生成された変数を用いたモデル解釈を行います。"
   ]
  },
  {
   "cell_type": "code",
   "execution_count": 22,
   "metadata": {},
   "outputs": [],
   "source": [
    "# Compute the engineered explanations\n",
    "engineered_explanations = explainer.explain(['local', 'global'],get_raw=False,\n",
    "                                            eval_dataset=automl_explainer_setup_obj.X_test_transform)"
   ]
  },
  {
   "cell_type": "code",
   "execution_count": 23,
   "metadata": {},
   "outputs": [
    {
     "data": {
      "application/vnd.jupyter.widget-view+json": {
       "model_id": "5560f275ed5e4ef2a7edee37703de848",
       "version_major": 2,
       "version_minor": 0
      },
      "text/plain": [
       "ExplanationWidget(value={'predictedY': [0, 0, 0, 0, 0, 0, 0, 0, 0, 0, 0, 0, 1, 0, 0, 1, 0, 0, 0, 0, 0, 0, 0, 0…"
      ]
     },
     "metadata": {},
     "output_type": "display_data"
    },
    {
     "data": {
      "text/plain": [
       "<interpret_community.widget.ExplanationDashboard.ExplanationDashboard at 0x11efb4630>"
      ]
     },
     "execution_count": 23,
     "metadata": {},
     "output_type": "execute_result"
    }
   ],
   "source": [
    "# ダッシュボードの表示\n",
    "from interpret_community.widget import ExplanationDashboard\n",
    "ExplanationDashboard(engineered_explanations, \n",
    "                     automl_explainer_setup_obj.automl_estimator, \n",
    "                     datasetX=automl_explainer_setup_obj.X_test_transform)"
   ]
  },
  {
   "cell_type": "markdown",
   "metadata": {},
   "source": [
    "## Raw Explanation\n",
    "特徴量エンジニアリング前の変数を用いたモデル解釈を行います。"
   ]
  },
  {
   "cell_type": "code",
   "execution_count": 24,
   "metadata": {},
   "outputs": [],
   "source": [
    "raw_explanations = explainer.explain(['local', 'global'], get_raw=True, \n",
    "                                     raw_feature_names=automl_explainer_setup_obj.raw_feature_names,\n",
    "                                     eval_dataset=automl_explainer_setup_obj.X_test_transform)"
   ]
  },
  {
   "cell_type": "code",
   "execution_count": 25,
   "metadata": {},
   "outputs": [
    {
     "data": {
      "application/vnd.jupyter.widget-view+json": {
       "model_id": "8c4a9a0596834d98be8e9abd02105f85",
       "version_major": 2,
       "version_minor": 0
      },
      "text/plain": [
       "ExplanationWidget(value={'predictedY': [0, 0, 0, 0, 0, 0, 0, 0, 0, 0, 0, 0, 1, 0, 0, 1, 0, 0, 0, 0, 0, 0, 0, 0…"
      ]
     },
     "metadata": {},
     "output_type": "display_data"
    },
    {
     "data": {
      "text/plain": [
       "<interpret_community.widget.ExplanationDashboard.ExplanationDashboard at 0x11d35c6a0>"
      ]
     },
     "execution_count": 25,
     "metadata": {},
     "output_type": "execute_result"
    }
   ],
   "source": [
    "# ダッシュボードの表示\n",
    "from interpret_community.widget import ExplanationDashboard\n",
    "ExplanationDashboard(raw_explanations, \n",
    "                     automl_explainer_setup_obj.automl_pipeline, \n",
    "                     datasetX=automl_explainer_setup_obj.X_test_raw)"
   ]
  }
 ],
 "metadata": {
  "kernelspec": {
   "display_name": "azureml1076",
   "language": "python",
   "name": "azureml1076"
  },
  "language_info": {
   "codemirror_mode": {
    "name": "ipython",
    "version": 3
   },
   "file_extension": ".py",
   "mimetype": "text/x-python",
   "name": "python",
   "nbconvert_exporter": "python",
   "pygments_lexer": "ipython3",
   "version": "3.6.9"
  }
 },
 "nbformat": 4,
 "nbformat_minor": 2
}
