{
 "cells": [
  {
   "cell_type": "markdown",
   "metadata": {},
   "source": [
    "# エネルギーの需要予測モデリング & モデル解釈 (リモート高速実行)"
   ]
  },
  {
   "cell_type": "markdown",
   "metadata": {},
   "source": [
    "過去のエネルギー需要実績データから、将来必要なエネルギー需要を予測します。<br>\n",
    "※参考 : [時系列予測モデルを自動トレーニングする](https://docs.microsoft.com/ja-JP/azure/machine-learning/service/how-to-auto-train-forecast)"
   ]
  },
  {
   "cell_type": "markdown",
   "metadata": {},
   "source": [
    "\n",
    "1. 事前準備\n",
    "    - Python SDK のインポート\n",
    "    - Azure ML `Workspace` への接続\n",
    "    - `Experiment` の作成\n",
    "    - `Dataset` の作成と登録\n",
    "\n",
    "\n",
    "2. 自動機械学習 Automated Machine Learning\n",
    "    - 計算環境 `Machine Learning Compute` の準備\n",
    "    - 自動機械学習 Automated ML の事前設定\n",
    "    - モデル学習と結果の確認\n",
    "\n",
    "\n",
    "3. モデル解釈"
   ]
  },
  {
   "cell_type": "markdown",
   "metadata": {},
   "source": [
    "## 1. 事前準備"
   ]
  },
  {
   "cell_type": "markdown",
   "metadata": {},
   "source": [
    "### Python SDK のインポート\n",
    "Azure Machine Learning の Python SDK をインポートします。"
   ]
  },
  {
   "cell_type": "code",
   "execution_count": 1,
   "metadata": {},
   "outputs": [],
   "source": [
    "import azureml.core\n",
    "from azureml.core import Experiment, Workspace, Dataset\n",
    "from azureml.train.automl import AutoMLConfig\n",
    "from datetime import datetime"
   ]
  },
  {
   "cell_type": "markdown",
   "metadata": {},
   "source": [
    "Azure Machine Learning Python SDK のバージョンを確認します。"
   ]
  },
  {
   "cell_type": "code",
   "execution_count": 2,
   "metadata": {},
   "outputs": [
    {
     "name": "stdout",
     "output_type": "stream",
     "text": [
      "1.0.74\n"
     ]
    }
   ],
   "source": [
    "print(azureml.core.VERSION)"
   ]
  },
  {
   "cell_type": "code",
   "execution_count": 3,
   "metadata": {},
   "outputs": [],
   "source": [
    "# その他必要なライブラリをインポートします。\n",
    "import logging\n",
    "from sklearn.metrics import mean_absolute_error, mean_squared_error, r2_score\n",
    "from matplotlib import pyplot as plt\n",
    "import pandas as pd\n",
    "import numpy as np\n",
    "import warnings\n",
    "import os\n",
    "\n",
    "# 警告メッセージを削除する\n",
    "warnings.showwarning = lambda *args, **kwargs: None"
   ]
  },
  {
   "cell_type": "markdown",
   "metadata": {},
   "source": [
    "### Azure ML workspace との接続\n",
    "Azure Machine Learning との接続を行います。Azure Active Directory の認証が必要です。"
   ]
  },
  {
   "cell_type": "code",
   "execution_count": 4,
   "metadata": {},
   "outputs": [
    {
     "name": "stdout",
     "output_type": "stream",
     "text": [
      "azureml\teastus\tmlservice\teastus\n"
     ]
    }
   ],
   "source": [
    "ws = Workspace.from_config()\n",
    "print(ws.name, ws.location, ws.resource_group, ws.location, sep = '\\t')"
   ]
  },
  {
   "cell_type": "markdown",
   "metadata": {},
   "source": [
    "### 実験名の設定\n",
    "Azure Machine Learing では 実験を管理する仕組みがあります。自動機械学習は自動的にその実験管理の仕組みでメトリックやログが残ります。"
   ]
  },
  {
   "cell_type": "code",
   "execution_count": 5,
   "metadata": {},
   "outputs": [],
   "source": [
    "# choose a name for experiment\n",
    "experiment_name = 'automl-forecasting-energydemand'\n",
    "experiment = Experiment(ws, experiment_name)"
   ]
  },
  {
   "cell_type": "markdown",
   "metadata": {},
   "source": [
    "### 学習データの準備"
   ]
  },
  {
   "cell_type": "markdown",
   "metadata": {},
   "source": [
    "Azure Machine Learning service の計算環境 (Machine Learning Compute) で学習を回すために、Azure Machine Learning service の Dataset のフォーマットでデータを定義します。"
   ]
  },
  {
   "cell_type": "code",
   "execution_count": 6,
   "metadata": {},
   "outputs": [],
   "source": [
    "# 予測対象変数と日時カラムの指定\n",
    "label = 'demand' \n",
    "time_column_name = 'timeStamp'"
   ]
  },
  {
   "cell_type": "code",
   "execution_count": 7,
   "metadata": {},
   "outputs": [
    {
     "data": {
      "text/html": [
       "<div>\n",
       "<style scoped>\n",
       "    .dataframe tbody tr th:only-of-type {\n",
       "        vertical-align: middle;\n",
       "    }\n",
       "\n",
       "    .dataframe tbody tr th {\n",
       "        vertical-align: top;\n",
       "    }\n",
       "\n",
       "    .dataframe thead th {\n",
       "        text-align: right;\n",
       "    }\n",
       "</style>\n",
       "<table border=\"1\" class=\"dataframe\">\n",
       "  <thead>\n",
       "    <tr style=\"text-align: right;\">\n",
       "      <th></th>\n",
       "      <th>timeStamp</th>\n",
       "      <th>demand</th>\n",
       "      <th>precip</th>\n",
       "      <th>temp</th>\n",
       "    </tr>\n",
       "  </thead>\n",
       "  <tbody>\n",
       "    <tr>\n",
       "      <th>0</th>\n",
       "      <td>2012-01-01 00:00:00</td>\n",
       "      <td>4937.50</td>\n",
       "      <td>0.00</td>\n",
       "      <td>46.13</td>\n",
       "    </tr>\n",
       "    <tr>\n",
       "      <th>1</th>\n",
       "      <td>2012-01-01 01:00:00</td>\n",
       "      <td>4752.10</td>\n",
       "      <td>0.00</td>\n",
       "      <td>45.89</td>\n",
       "    </tr>\n",
       "    <tr>\n",
       "      <th>2</th>\n",
       "      <td>2012-01-01 02:00:00</td>\n",
       "      <td>4542.60</td>\n",
       "      <td>0.00</td>\n",
       "      <td>45.04</td>\n",
       "    </tr>\n",
       "    <tr>\n",
       "      <th>3</th>\n",
       "      <td>2012-01-01 03:00:00</td>\n",
       "      <td>4357.70</td>\n",
       "      <td>0.00</td>\n",
       "      <td>45.03</td>\n",
       "    </tr>\n",
       "    <tr>\n",
       "      <th>4</th>\n",
       "      <td>2012-01-01 04:00:00</td>\n",
       "      <td>4275.50</td>\n",
       "      <td>0.00</td>\n",
       "      <td>42.61</td>\n",
       "    </tr>\n",
       "  </tbody>\n",
       "</table>\n",
       "</div>"
      ],
      "text/plain": [
       "            timeStamp  demand  precip  temp\n",
       "0 2012-01-01 00:00:00 4937.50    0.00 46.13\n",
       "1 2012-01-01 01:00:00 4752.10    0.00 45.89\n",
       "2 2012-01-01 02:00:00 4542.60    0.00 45.04\n",
       "3 2012-01-01 03:00:00 4357.70    0.00 45.03\n",
       "4 2012-01-01 04:00:00 4275.50    0.00 42.61"
      ]
     },
     "execution_count": 7,
     "metadata": {},
     "output_type": "execute_result"
    }
   ],
   "source": [
    "dataset = Dataset.Tabular.from_delimited_files(path = \"https://automlsamplenotebookdata.blob.core.windows.net/automl-sample-notebook-data/nyc_energy.csv\").with_timestamp_columns(fine_grain_timestamp=time_column_name) \n",
    "dataset.take(5).to_pandas_dataframe()"
   ]
  },
  {
   "cell_type": "code",
   "execution_count": 8,
   "metadata": {},
   "outputs": [],
   "source": [
    "# Cut off the end of the dataset due to large number of nan values\n",
    "dataset = dataset.time_before(datetime(2017, 10, 10, 5))"
   ]
  },
  {
   "cell_type": "code",
   "execution_count": null,
   "metadata": {},
   "outputs": [
    {
     "data": {
      "text/html": [
       "<div>\n",
       "<style scoped>\n",
       "    .dataframe tbody tr th:only-of-type {\n",
       "        vertical-align: middle;\n",
       "    }\n",
       "\n",
       "    .dataframe tbody tr th {\n",
       "        vertical-align: top;\n",
       "    }\n",
       "\n",
       "    .dataframe thead th {\n",
       "        text-align: right;\n",
       "    }\n",
       "</style>\n",
       "<table border=\"1\" class=\"dataframe\">\n",
       "  <thead>\n",
       "    <tr style=\"text-align: right;\">\n",
       "      <th></th>\n",
       "      <th>timeStamp</th>\n",
       "      <th>demand</th>\n",
       "      <th>precip</th>\n",
       "      <th>temp</th>\n",
       "    </tr>\n",
       "  </thead>\n",
       "  <tbody>\n",
       "    <tr>\n",
       "      <th>49071</th>\n",
       "      <td>2017-08-08 01:00:00</td>\n",
       "      <td>5106.35</td>\n",
       "      <td>0.00</td>\n",
       "      <td>68.30</td>\n",
       "    </tr>\n",
       "    <tr>\n",
       "      <th>49072</th>\n",
       "      <td>2017-08-08 02:00:00</td>\n",
       "      <td>4947.73</td>\n",
       "      <td>0.00</td>\n",
       "      <td>68.44</td>\n",
       "    </tr>\n",
       "    <tr>\n",
       "      <th>49073</th>\n",
       "      <td>2017-08-08 03:00:00</td>\n",
       "      <td>4867.02</td>\n",
       "      <td>0.00</td>\n",
       "      <td>68.78</td>\n",
       "    </tr>\n",
       "    <tr>\n",
       "      <th>49074</th>\n",
       "      <td>2017-08-08 04:00:00</td>\n",
       "      <td>4888.20</td>\n",
       "      <td>0.00</td>\n",
       "      <td>68.70</td>\n",
       "    </tr>\n",
       "    <tr>\n",
       "      <th>49075</th>\n",
       "      <td>2017-08-08 05:00:00</td>\n",
       "      <td>5120.31</td>\n",
       "      <td>0.00</td>\n",
       "      <td>67.53</td>\n",
       "    </tr>\n",
       "  </tbody>\n",
       "</table>\n",
       "</div>"
      ],
      "text/plain": [
       "                timeStamp  demand  precip  temp\n",
       "49071 2017-08-08 01:00:00 5106.35    0.00 68.30\n",
       "49072 2017-08-08 02:00:00 4947.73    0.00 68.44\n",
       "49073 2017-08-08 03:00:00 4867.02    0.00 68.78\n",
       "49074 2017-08-08 04:00:00 4888.20    0.00 68.70\n",
       "49075 2017-08-08 05:00:00 5120.31    0.00 67.53"
      ]
     },
     "execution_count": 9,
     "metadata": {},
     "output_type": "execute_result"
    }
   ],
   "source": [
    "# 2017年8月8日5:00 までを学習データ\n",
    "train_dataset = dataset.time_before(datetime(2017, 8, 8, 5), include_boundary=True)\n",
    "train_dataset.to_pandas_dataframe().sort_values(time_column_name).tail(5)"
   ]
  },
  {
   "cell_type": "code",
   "execution_count": null,
   "metadata": {},
   "outputs": [
    {
     "data": {
      "text/html": [
       "<div>\n",
       "<style scoped>\n",
       "    .dataframe tbody tr th:only-of-type {\n",
       "        vertical-align: middle;\n",
       "    }\n",
       "\n",
       "    .dataframe tbody tr th {\n",
       "        vertical-align: top;\n",
       "    }\n",
       "\n",
       "    .dataframe thead th {\n",
       "        text-align: right;\n",
       "    }\n",
       "</style>\n",
       "<table border=\"1\" class=\"dataframe\">\n",
       "  <thead>\n",
       "    <tr style=\"text-align: right;\">\n",
       "      <th></th>\n",
       "      <th>timeStamp</th>\n",
       "      <th>demand</th>\n",
       "      <th>precip</th>\n",
       "      <th>temp</th>\n",
       "    </tr>\n",
       "  </thead>\n",
       "  <tbody>\n",
       "    <tr>\n",
       "      <th>0</th>\n",
       "      <td>2017-08-08 06:00:00</td>\n",
       "      <td>5590.99</td>\n",
       "      <td>0.00</td>\n",
       "      <td>66.17</td>\n",
       "    </tr>\n",
       "    <tr>\n",
       "      <th>1</th>\n",
       "      <td>2017-08-08 07:00:00</td>\n",
       "      <td>6147.03</td>\n",
       "      <td>0.00</td>\n",
       "      <td>66.29</td>\n",
       "    </tr>\n",
       "    <tr>\n",
       "      <th>2</th>\n",
       "      <td>2017-08-08 08:00:00</td>\n",
       "      <td>6592.43</td>\n",
       "      <td>0.00</td>\n",
       "      <td>66.72</td>\n",
       "    </tr>\n",
       "    <tr>\n",
       "      <th>3</th>\n",
       "      <td>2017-08-08 09:00:00</td>\n",
       "      <td>6874.53</td>\n",
       "      <td>0.00</td>\n",
       "      <td>67.37</td>\n",
       "    </tr>\n",
       "    <tr>\n",
       "      <th>4</th>\n",
       "      <td>2017-08-08 10:00:00</td>\n",
       "      <td>7010.54</td>\n",
       "      <td>0.00</td>\n",
       "      <td>68.30</td>\n",
       "    </tr>\n",
       "  </tbody>\n",
       "</table>\n",
       "</div>"
      ],
      "text/plain": [
       "            timeStamp  demand  precip  temp\n",
       "0 2017-08-08 06:00:00 5590.99    0.00 66.17\n",
       "1 2017-08-08 07:00:00 6147.03    0.00 66.29\n",
       "2 2017-08-08 08:00:00 6592.43    0.00 66.72\n",
       "3 2017-08-08 09:00:00 6874.53    0.00 67.37\n",
       "4 2017-08-08 10:00:00 7010.54    0.00 68.30"
      ]
     },
     "execution_count": 10,
     "metadata": {},
     "output_type": "execute_result"
    }
   ],
   "source": [
    "# 2017年8月8日5:00 - 2017年8月10日5:00 までをテストデータ\n",
    "test_dataset = dataset.time_between(datetime(2017, 8, 8, 5), datetime(2017, 8, 10, 5))\n",
    "test_dataset.to_pandas_dataframe().head(5)"
   ]
  },
  {
   "cell_type": "markdown",
   "metadata": {},
   "source": [
    "### 計算環境 Machine Learning Compute の設定"
   ]
  },
  {
   "cell_type": "markdown",
   "metadata": {},
   "source": [
    "Azure Machine Learning では機械学習のための計算環境 Machine Learning Compute が利用できます。"
   ]
  },
  {
   "cell_type": "code",
   "execution_count": null,
   "metadata": {},
   "outputs": [],
   "source": [
    "# 予め Azure ML studio にて cpucluster という名称の Machine Learning Compute を 作成しておく\n",
    "from azureml.core.compute import ComputeTarget\n",
    "compute_target = ComputeTarget(ws, name = \"cpucluster\")"
   ]
  },
  {
   "cell_type": "markdown",
   "metadata": {},
   "source": [
    "## 2. 自動機械学習 Automated Machine Learning\n",
    "自動機械学習の事前設定を行います。[AutoMLConfig](https://docs.microsoft.com/ja-JP/python/api/azureml-train-automl-client/azureml.train.automl.automlconfig.automlconfig?view=azure-ml-py) を用いて定義します。"
   ]
  },
  {
   "cell_type": "code",
   "execution_count": null,
   "metadata": {},
   "outputs": [],
   "source": [
    "max_horizon = 48"
   ]
  },
  {
   "cell_type": "code",
   "execution_count": null,
   "metadata": {},
   "outputs": [],
   "source": [
    "automl_settings = {\n",
    "    'time_column_name': time_column_name,\n",
    "    \"max_concurrent_iterations\": 4,\n",
    "    'max_horizon': max_horizon,\n",
    "}\n",
    "\n",
    "automl_config = AutoMLConfig(task='forecasting',                             \n",
    "                             primary_metric='normalized_root_mean_squared_error',\n",
    "                             experiment_timeout_minutes=10,\n",
    "                             iterations = 5,\n",
    "                             training_data=train_dataset,\n",
    "                             label_column_name=label,\n",
    "                             #compute_target=compute_target,  # ローカル環境で実行する場合には compute_target, max_concurrent_itterations をコメントアウトします\n",
    "                             n_cross_validations=3, \n",
    "                             model_explainability = True,\n",
    "                             verbosity=logging.INFO,\n",
    "                            **automl_settings)"
   ]
  },
  {
   "cell_type": "markdown",
   "metadata": {},
   "source": [
    "### 実行と結果確認"
   ]
  },
  {
   "cell_type": "code",
   "execution_count": null,
   "metadata": {},
   "outputs": [
    {
     "name": "stdout",
     "output_type": "stream",
     "text": [
      "Running on local machine\n",
      "Parent Run ID: AutoML_98740e4c-629a-4213-b80b-1687a96ccdf4\n",
      "Current status: DatasetFeaturization. Beginning to featurize the dataset.\n",
      "Current status: DatasetFeaturizationCompleted. Completed featurizing the dataset.\n",
      "Current status: DatasetCrossValidationSplit. Generating CV splits.\n",
      "Current status: DatasetFeaturization. Beginning to featurize the CV split.\n",
      "Current status: DatasetFeaturizationCompleted. Completed featurizing the CV split.\n",
      "Current status: DatasetFeaturization. Beginning to featurize the CV split.\n",
      "Current status: DatasetFeaturizationCompleted. Completed featurizing the CV split.\n",
      "Current status: DatasetFeaturization. Beginning to featurize the CV split.\n",
      "Current status: DatasetFeaturizationCompleted. Completed featurizing the CV split.\n",
      "Current status: ModelSelection. Beginning model selection.\n",
      "\n",
      "****************************************************************************************************\n",
      "ITERATION: The iteration being evaluated.\n",
      "PIPELINE: A summary description of the pipeline being evaluated.\n",
      "DURATION: Time taken for the current iteration.\n",
      "METRIC: The result of computing score on the fitted pipeline.\n",
      "BEST: The best observed score thus far.\n",
      "****************************************************************************************************\n",
      "\n",
      " ITERATION   PIPELINE                                       DURATION      METRIC      BEST\n",
      "         0   RobustScaler ElasticNet                        0:00:29       0.1347    0.1347\n",
      "         1   StandardScalerWrapper ElasticNet               0:00:25       0.0905    0.0905\n",
      "         2   StandardScalerWrapper ElasticNet               0:00:25       0.1211    0.0905\n",
      "         3   VotingEnsemble                                 0:00:31       0.0905    0.0905\n",
      "         4   StackEnsemble                                  0:00:31       0.0617    0.0617\n",
      "****************************************************************************************************\n",
      "Current status: BestRunExplainModel. Best run model explanations started\n",
      "Current status: ModelExplainationDataSetSetup. Model explanations data setup completed\n"
     ]
    }
   ],
   "source": [
    "remote_run = experiment.submit(automl_config, show_output=True)"
   ]
  },
  {
   "cell_type": "code",
   "execution_count": null,
   "metadata": {},
   "outputs": [],
   "source": [
    "from azureml.widgets import RunDetails\n",
    "RunDetails(remote_run).show()"
   ]
  },
  {
   "cell_type": "code",
   "execution_count": null,
   "metadata": {},
   "outputs": [],
   "source": [
    "automl_run, fitted_model = remote_run.get_output()"
   ]
  },
  {
   "cell_type": "markdown",
   "metadata": {},
   "source": [
    "### モデルの理解"
   ]
  },
  {
   "cell_type": "code",
   "execution_count": null,
   "metadata": {},
   "outputs": [],
   "source": [
    "#pd.DataFrame(fitted_model.named_steps['timeseriestransformer'].get_engineered_feature_names())"
   ]
  },
  {
   "cell_type": "code",
   "execution_count": null,
   "metadata": {},
   "outputs": [],
   "source": [
    "#pd.DataFrame.from_records(fitted_model.named_steps['timeseriestransformer'].get_featurization_summary())"
   ]
  },
  {
   "cell_type": "markdown",
   "metadata": {},
   "source": [
    "## 3. モデル解釈\n",
    "Azure Machine Learning には Automated ML のモデルを解釈する仕組みがあります。詳しくは [モデルを解釈する方法](https://docs.microsoft.com/ja-jp/azure/machine-learning/service/how-to-machine-learning-interpretability#how-to-interpret-your-model)をご参照ください。"
   ]
  },
  {
   "cell_type": "code",
   "execution_count": null,
   "metadata": {},
   "outputs": [],
   "source": [
    "# Pandas Dataframe に変換\n",
    "train_df = train_dataset.to_pandas_dataframe()\n",
    "test_df = test_dataset.to_pandas_dataframe()"
   ]
  },
  {
   "cell_type": "code",
   "execution_count": null,
   "metadata": {},
   "outputs": [],
   "source": [
    "from azureml.train.automl.runtime.automl_explain_utilities import AutoMLExplainerSetupClass, automl_setup_model_explanations\n",
    "automl_explainer_setup_obj = automl_setup_model_explanations(fitted_model, \n",
    "                                                             X=train_df.drop([label], axis=1), \n",
    "                                                             X_test=test_df.drop([label], axis=1), \n",
    "                                                             y=train_df[label].values, \n",
    "                                                             task='forecasting')"
   ]
  },
  {
   "cell_type": "code",
   "execution_count": null,
   "metadata": {},
   "outputs": [],
   "source": [
    "from azureml.explain.model.mimic.models.lightgbm_model import LGBMExplainableModel\n",
    "from azureml.explain.model.mimic_wrapper import MimicWrapper\n",
    "explainer = MimicWrapper(ws, automl_explainer_setup_obj.automl_estimator, LGBMExplainableModel,\n",
    "                         init_dataset=automl_explainer_setup_obj.X_transform, run=automl_run,\n",
    "                         features=automl_explainer_setup_obj.engineered_feature_names,\n",
    "                         feature_maps=[automl_explainer_setup_obj.feature_map],\n",
    "                         classes=automl_explainer_setup_obj.classes)"
   ]
  },
  {
   "cell_type": "markdown",
   "metadata": {},
   "source": [
    "## Engineered Explanation\n",
    "特徴量エンジニアリングで生成された変数を用いたモデル解釈を行います。"
   ]
  },
  {
   "cell_type": "code",
   "execution_count": null,
   "metadata": {},
   "outputs": [],
   "source": [
    "# Compute the engineered explanations\n",
    "engineered_explanations = explainer.explain(['local', 'global'],get_raw=False,\n",
    "                                            eval_dataset=automl_explainer_setup_obj.X_test_transform)"
   ]
  },
  {
   "cell_type": "code",
   "execution_count": null,
   "metadata": {},
   "outputs": [],
   "source": [
    "# ダッシュボードの表示\n",
    "from interpret_community.widget import ExplanationDashboard\n",
    "ExplanationDashboard(engineered_explanations, \n",
    "                     automl_explainer_setup_obj.automl_estimator, \n",
    "                     datasetX=automl_explainer_setup_obj.X_test_transform)"
   ]
  },
  {
   "cell_type": "markdown",
   "metadata": {},
   "source": [
    "## Raw Explanation\n",
    "特徴量エンジニアリング前の変数を用いたモデル解釈を行います。"
   ]
  },
  {
   "cell_type": "code",
   "execution_count": null,
   "metadata": {},
   "outputs": [],
   "source": [
    "raw_explanations = explainer.explain(['local', 'global'], get_raw=True, \n",
    "                                     raw_feature_names=automl_explainer_setup_obj.raw_feature_names,\n",
    "                                     eval_dataset=automl_explainer_setup_obj.X_test_transform)"
   ]
  },
  {
   "cell_type": "code",
   "execution_count": null,
   "metadata": {
    "scrolled": false
   },
   "outputs": [],
   "source": [
    "# ダッシュボードの表示\n",
    "from interpret_community.widget import ExplanationDashboard\n",
    "ExplanationDashboard(raw_explanations, \n",
    "                     automl_explainer_setup_obj.automl_pipeline, \n",
    "                     datasetX=automl_explainer_setup_obj.X_test_raw)"
   ]
  },
  {
   "cell_type": "code",
   "execution_count": null,
   "metadata": {},
   "outputs": [],
   "source": []
  },
  {
   "cell_type": "code",
   "execution_count": null,
   "metadata": {},
   "outputs": [],
   "source": []
  }
 ],
 "metadata": {
  "kernelspec": {
   "display_name": "myenv",
   "language": "python",
   "name": "myenv"
  },
  "language_info": {
   "codemirror_mode": {
    "name": "ipython",
    "version": 3
   },
   "file_extension": ".py",
   "mimetype": "text/x-python",
   "name": "python",
   "nbconvert_exporter": "python",
   "pygments_lexer": "ipython3",
   "version": "3.6.9"
  }
 },
 "nbformat": 4,
 "nbformat_minor": 2
}
