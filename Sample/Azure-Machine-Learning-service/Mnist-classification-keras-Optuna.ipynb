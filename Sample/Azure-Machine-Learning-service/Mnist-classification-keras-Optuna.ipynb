{
 "cells": [
  {
   "cell_type": "markdown",
   "metadata": {},
   "source": [
    "# Optuna & Azure Machine Learning service "
   ]
  },
  {
   "cell_type": "markdown",
   "metadata": {},
   "source": [
    "PFN のハイパーパラメータチューニングのライブラリ [Optuna](https://preferred.jp/en/news/tag/optuna/) を Azure Machine Learning service で利用するサンプルノートブックです。"
   ]
  },
  {
   "cell_type": "markdown",
   "metadata": {},
   "source": [
    "## Azure ML service Python SDK インポート"
   ]
  },
  {
   "cell_type": "markdown",
   "metadata": {},
   "source": [
    "Azure Machine Learning の専用 Python SDK をインポートしておきます。"
   ]
  },
  {
   "cell_type": "code",
   "execution_count": 1,
   "metadata": {},
   "outputs": [],
   "source": [
    "import azureml.core\n",
    "from azureml.core import Workspace\n",
    "from azureml.core import Experiment"
   ]
  },
  {
   "cell_type": "code",
   "execution_count": 2,
   "metadata": {},
   "outputs": [
    {
     "name": "stdout",
     "output_type": "stream",
     "text": [
      "1.0.65\n"
     ]
    }
   ],
   "source": [
    "# バージョンの確認\n",
    "print(azureml.core.VERSION)"
   ]
  },
  {
   "cell_type": "markdown",
   "metadata": {},
   "source": [
    "## Azure Machine Learning Workspace への接続"
   ]
  },
  {
   "cell_type": "markdown",
   "metadata": {},
   "source": [
    "Azure Machine Learning service との接続を行います。Azure に対する認証が必要です。"
   ]
  },
  {
   "cell_type": "code",
   "execution_count": 3,
   "metadata": {},
   "outputs": [
    {
     "name": "stdout",
     "output_type": "stream",
     "text": [
      "mlservice azureml\n"
     ]
    }
   ],
   "source": [
    "ws = Workspace.from_config()\n",
    "print(ws.resource_group, ws.name)"
   ]
  },
  {
   "cell_type": "markdown",
   "metadata": {},
   "source": [
    "## Experiment の設定"
   ]
  },
  {
   "cell_type": "markdown",
   "metadata": {},
   "source": [
    "実験名の指定。実験管理の仕組みで利用します。"
   ]
  },
  {
   "cell_type": "code",
   "execution_count": 4,
   "metadata": {},
   "outputs": [],
   "source": [
    "from azureml.core import Experiment\n",
    "experiment_name = 'optuna-keras-mnist'\n",
    "experiment = Experiment(workspace = ws, name = experiment_name)"
   ]
  },
  {
   "cell_type": "markdown",
   "metadata": {},
   "source": [
    "## Optuna 用 Database への接続情報"
   ]
  },
  {
   "cell_type": "markdown",
   "metadata": {},
   "source": [
    "結果の再利用や並列化のための Azure Database for MySQL の接続情報を取得します。"
   ]
  },
  {
   "cell_type": "code",
   "execution_count": 5,
   "metadata": {},
   "outputs": [],
   "source": [
    "# 環境変数などから取得することを推奨\n",
    "user = \"\"\n",
    "dbname = \"\"\n",
    "host = \"\"\n",
    "dbname = \"\"\n",
    "port = \"3306\""
   ]
  },
  {
   "cell_type": "code",
   "execution_count": 6,
   "metadata": {},
   "outputs": [],
   "source": [
    "# See details about Secret in https://docs.microsoft.com/ja-JP/azure/machine-learning/service/how-to-use-secrets-in-runs\n",
    "keyvault = ws.get_default_keyvault()"
   ]
  },
  {
   "cell_type": "code",
   "execution_count": 7,
   "metadata": {},
   "outputs": [],
   "source": [
    "# # Secrets の設定\n",
    "# keyvault.set_secret(name=\"user\", value = user)\n",
    "# keyvault.set_secret(name=\"password\", value = password )\n",
    "# keyvault.set_secret(name=\"host\", value = host)\n",
    "# keyvault.set_secret(name=\"dbname\", value = dbname)"
   ]
  },
  {
   "cell_type": "code",
   "execution_count": 8,
   "metadata": {},
   "outputs": [],
   "source": [
    "# Secrets から値の取得\n",
    "user = keyvault.get_secret(name=\"user\")\n",
    "password = keyvault.get_secret(name=\"password\")\n",
    "host = keyvault.get_secret(name=\"host\")\n",
    "dbname = keyvault.get_secret(name=\"dbname\")"
   ]
  },
  {
   "cell_type": "markdown",
   "metadata": {},
   "source": [
    "## study の作成"
   ]
  },
  {
   "cell_type": "code",
   "execution_count": 9,
   "metadata": {},
   "outputs": [
    {
     "name": "stderr",
     "output_type": "stream",
     "text": [
      "\u001b[32m[I 2019-10-20 00:12:25,292]\u001b[0m A new study created with name: keras-mnist\u001b[0m\n"
     ]
    },
    {
     "data": {
      "text/plain": [
       "<optuna.study.Study at 0x1214554a8>"
      ]
     },
     "execution_count": 9,
     "metadata": {},
     "output_type": "execute_result"
    }
   ],
   "source": [
    "import optuna\n",
    "import mysql.connector\n",
    "from mysql.connector import errorcode\n",
    "\n",
    "optuna.create_study(storage=\"mysql+mysqlconnector://{0}:{1}@{2}/{3}\".format(user, password, host, dbname),\n",
    "                    pruner=False,\n",
    "                    study_name=\"keras-mnist\",\n",
    "                    direction='maximize',\n",
    "                    load_if_exists=True,\n",
    "                   )"
   ]
  },
  {
   "cell_type": "markdown",
   "metadata": {},
   "source": [
    "## 学習スクリプト"
   ]
  },
  {
   "cell_type": "code",
   "execution_count": 10,
   "metadata": {},
   "outputs": [
    {
     "name": "stdout",
     "output_type": "stream",
     "text": [
      "Writing keras_mnist.py\n"
     ]
    }
   ],
   "source": [
    "%%writefile keras_mnist.py\n",
    "\n",
    "from __future__ import print_function\n",
    "import numpy as np\n",
    "import keras\n",
    "from keras.datasets import mnist\n",
    "from keras.models import Sequential\n",
    "from keras.layers import Dense, Dropout,Activation\n",
    "from keras.optimizers import SGD\n",
    "from keras.utils import np_utils\n",
    "import tensorflow as tf\n",
    "from tensorflow.python.keras.utils.vis_utils import plot_model\n",
    "\n",
    "import optuna\n",
    "\n",
    "from azureml.core import Run\n",
    "\n",
    "NB_EPOCH = 20\n",
    "BATCH_SIZE = 32\n",
    "NB_CLASSES = 10 #number of outputs = number of digits\n",
    "N_HIDDEN = 128\n",
    "VALIDATION_SPLIT = 0.3 # Training and Validation data ratio\n",
    "DROPOUT = 0.3\n",
    "\n",
    "class RunCallback(tf.keras.callbacks.Callback):\n",
    "    def __init__(self, run):\n",
    "        self.run = run\n",
    "        \n",
    "    def on_epoch_end(self, batch, logs={}):\n",
    "        self.run.log(name=\"training_acc\", value=float(logs.get('accuracy')))\n",
    "        self.run.log(name=\"validation_acc\", value=float(logs.get('val_accuracy')))\n",
    "        \n",
    "\n",
    "def objective(trial):\n",
    "    \n",
    "    lr = trial.suggest_loguniform('c', 1e-5, 1e-3)\n",
    "    \n",
    "    (X_train, y_train), (X_test, y_test) = mnist.load_data()\n",
    "    RESHAPED = 784\n",
    "    \n",
    "    X_train = X_train.reshape(60000,RESHAPED)\n",
    "    X_test = X_test.reshape(10000,RESHAPED)\n",
    "    X_train = X_train.astype('float32')\n",
    "    X_test = X_test.astype('float32')\n",
    "        \n",
    "    X_train /= 255\n",
    "    X_test /= 255 \n",
    "    \n",
    "    Y_train = np_utils.to_categorical(y_train, NB_CLASSES)\n",
    "    Y_test = np_utils.to_categorical(y_test, NB_CLASSES)\n",
    "    \n",
    "    model = Sequential()\n",
    "    model.add(Dense(N_HIDDEN, input_shape = (RESHAPED,)))\n",
    "    model.add(Activation('relu'))\n",
    "    model.add(Dropout(DROPOUT))\n",
    "    model.add(Dense(N_HIDDEN))\n",
    "    model.add(Activation('relu'))\n",
    "    model.add(Dropout(DROPOUT))\n",
    "    model.add(Dense(NB_CLASSES))\n",
    "    model.add(Activation('softmax'))\n",
    "    model.summary()\n",
    "    \n",
    "    callbacks = list()\n",
    "\n",
    "    OPTIMIZER = SGD(lr=lr) #SGD Optimizer\n",
    "    model.compile(loss ='categorical_crossentropy', optimizer = OPTIMIZER, metrics=['accuracy'])\n",
    "\n",
    "\n",
    "    callbacks.append(RunCallback(run))\n",
    "    \n",
    "    model.fit(X_train,\n",
    "          Y_train,\n",
    "          batch_size=BATCH_SIZE, \n",
    "          epochs=NB_EPOCH, \n",
    "          callbacks= callbacks,\n",
    "          verbose = 1, \n",
    "          validation_split=VALIDATION_SPLIT)\n",
    "    \n",
    "\n",
    "    score = model.evaluate(X_test, Y_test, verbose= 1)\n",
    "    print('Test score:', score[0])\n",
    "    print('Test accuracy:', score[1])\n",
    "\n",
    "    # log a single value\n",
    "    run.log(\"Final test loss\", score[0])\n",
    "    run.log('Final test accuracy', score[1])\n",
    "\n",
    "\n",
    "\n",
    "    # create a ./outputs/model folder in the compute target\n",
    "    # files saved in the \"./outputs\" folder are automatically uploaded into run history\n",
    "    os.makedirs('./outputs/model', exist_ok=True)\n",
    "\n",
    "    # serialize NN architecture to JSON\n",
    "    model_json = model.to_json()\n",
    "    \n",
    "    # save model JSON\n",
    "    with open('./outputs/model/model.json', 'w') as f:\n",
    "        f.write(model_json)\n",
    "        \n",
    "    # save model weights\n",
    "    model.save_weights('./outputs/model/model.h5')\n",
    "    print(\"model saved in ./outputs/model folder\")\n",
    "    \n",
    "    return score[1]\n",
    "\n",
    "\n",
    "\n",
    "if __name__ == '__main__':\n",
    "    \n",
    "    # start an Azure ML run\n",
    "    run = Run.get_context()\n",
    "    \n",
    "    print(\"Keras version:\", keras.__version__)\n",
    "    print(\"Tensorflow version:\", tf.__version__)\n",
    "    \n",
    "    user = run.get_secret(name=\"user\")\n",
    "    password = run.get_secret(name=\"password\")\n",
    "    host = run.get_secret(name=\"host\")\n",
    "    dbname = run.get_secret(name=\"dbname\")\n",
    "    \n",
    "    study = optuna.load_study(study_name='keras-mnist', storage=\"mysql+mysqlconnector://{0}:{1}@{2}/{3}\".format(user, password, host, dbname))\n",
    "    study.optimize(objective, n_trials=5)\n",
    "\n",
    "    print(study.best_trial)"
   ]
  },
  {
   "cell_type": "markdown",
   "metadata": {},
   "source": [
    "## 学習環境の準備"
   ]
  },
  {
   "cell_type": "markdown",
   "metadata": {},
   "source": [
    "Machine Learning Compute は予め作成しておきます。"
   ]
  },
  {
   "cell_type": "code",
   "execution_count": 11,
   "metadata": {},
   "outputs": [],
   "source": [
    "# 予め optuna-cluster という名称の Machine Learning Compute を作成しておく\n",
    "from azureml.core.compute import ComputeTarget, AmlCompute\n",
    "cpu_cluster = ComputeTarget(workspace=ws, name=\"optuna-cluster\")"
   ]
  },
  {
   "cell_type": "code",
   "execution_count": 12,
   "metadata": {},
   "outputs": [
    {
     "data": {
      "text/plain": [
       "[]"
      ]
     },
     "execution_count": 12,
     "metadata": {},
     "output_type": "execute_result"
    }
   ],
   "source": [
    "# ip address などの情報\n",
    "cpu_cluster.list_nodes()"
   ]
  },
  {
   "cell_type": "code",
   "execution_count": 13,
   "metadata": {},
   "outputs": [],
   "source": [
    "# See https://docs.microsoft.com/ja-JP/azure/machine-learning/service/how-to-use-environments\n",
    "from azureml.core import Environment\n",
    "from azureml.core.conda_dependencies import CondaDependencies\n",
    "\n",
    "myenv = Environment(\"optuna-keras\")\n",
    "myenv.docker.enabled = True\n",
    "#myenv.docker.base_image = None\n",
    "myenv.python.conda_dependencies = CondaDependencies()\n",
    "myenv.python.conda_dependencies.add_pip_package(\"azureml-sdk[notebook]\")\n",
    "myenv.python.conda_dependencies.add_pip_package(\"optuna\")\n",
    "myenv.python.conda_dependencies.add_pip_package(\"mysql-connector-python-rf\")\n",
    "myenv.python.conda_dependencies.add_pip_package(\"tensorflow==1.14\")\n",
    "myenv.python.conda_dependencies.add_pip_package(\"tensorflow-gpu\")\n",
    "myenv.python.conda_dependencies.add_pip_package(\"keras\")"
   ]
  },
  {
   "cell_type": "code",
   "execution_count": 14,
   "metadata": {},
   "outputs": [],
   "source": [
    "from azureml.core import ScriptRunConfig\n",
    "from azureml.core.runconfig import DEFAULT_CPU_IMAGE\n",
    "\n",
    "src = ScriptRunConfig(source_directory=\".\", script='keras_mnist.py')\n",
    "src.run_config.target = cpu_cluster.name\n",
    "src.run_config.environment = myenv\n",
    "src.run_config.node_count = 1 \n",
    "src.run_config.max_run_duration_seconds = 2400"
   ]
  },
  {
   "cell_type": "markdown",
   "metadata": {},
   "source": [
    "## 実験メトリックの取得開始"
   ]
  },
  {
   "cell_type": "code",
   "execution_count": 15,
   "metadata": {},
   "outputs": [],
   "source": [
    "optuna_run = experiment.start_logging()"
   ]
  },
  {
   "cell_type": "markdown",
   "metadata": {},
   "source": [
    "## 最大 Study Job 数"
   ]
  },
  {
   "cell_type": "code",
   "execution_count": 16,
   "metadata": {},
   "outputs": [],
   "source": [
    "# 最大5並列で Study を実行\n",
    "num_of_child = 5"
   ]
  },
  {
   "cell_type": "markdown",
   "metadata": {},
   "source": [
    "## Study 実行"
   ]
  },
  {
   "cell_type": "code",
   "execution_count": 17,
   "metadata": {},
   "outputs": [],
   "source": [
    "for c in range(num_of_child):\n",
    "    optuna_run.submit_child(src)"
   ]
  },
  {
   "cell_type": "code",
   "execution_count": 20,
   "metadata": {},
   "outputs": [
    {
     "data": {
      "application/vnd.jupyter.widget-view+json": {
       "model_id": "1b6210a7d9c14d09b3f52c9a0b0e0c53",
       "version_major": 2,
       "version_minor": 0
      },
      "text/plain": [
       "_UserRunWidget(widget_settings={'childWidgetDisplay': 'popup', 'send_telemetry': False, 'log_level': 'INFO', '…"
      ]
     },
     "metadata": {},
     "output_type": "display_data"
    }
   ],
   "source": [
    "from azureml.widgets import RunDetails\n",
    "RunDetails(optuna_run).show()"
   ]
  },
  {
   "cell_type": "markdown",
   "metadata": {},
   "source": [
    "## Study 結果集計"
   ]
  },
  {
   "cell_type": "code",
   "execution_count": 21,
   "metadata": {},
   "outputs": [
    {
     "data": {
      "text/html": [
       "<div>\n",
       "<style scoped>\n",
       "    .dataframe tbody tr th:only-of-type {\n",
       "        vertical-align: middle;\n",
       "    }\n",
       "\n",
       "    .dataframe tbody tr th {\n",
       "        vertical-align: top;\n",
       "    }\n",
       "\n",
       "    .dataframe thead tr th {\n",
       "        text-align: left;\n",
       "    }\n",
       "</style>\n",
       "<table border=\"1\" class=\"dataframe\">\n",
       "  <thead>\n",
       "    <tr>\n",
       "      <th></th>\n",
       "      <th>number</th>\n",
       "      <th>state</th>\n",
       "      <th>value</th>\n",
       "      <th>datetime_start</th>\n",
       "      <th>datetime_complete</th>\n",
       "      <th>params</th>\n",
       "      <th>system_attrs</th>\n",
       "    </tr>\n",
       "    <tr>\n",
       "      <th></th>\n",
       "      <th></th>\n",
       "      <th></th>\n",
       "      <th></th>\n",
       "      <th></th>\n",
       "      <th></th>\n",
       "      <th>c</th>\n",
       "      <th>_number</th>\n",
       "    </tr>\n",
       "  </thead>\n",
       "  <tbody>\n",
       "    <tr>\n",
       "      <th>0</th>\n",
       "      <td>0</td>\n",
       "      <td>TrialState.COMPLETE</td>\n",
       "      <td>0.3413</td>\n",
       "      <td>2019-10-19 15:21:19</td>\n",
       "      <td>2019-10-19 15:22:49</td>\n",
       "      <td>0.000018</td>\n",
       "      <td>0</td>\n",
       "    </tr>\n",
       "    <tr>\n",
       "      <th>1</th>\n",
       "      <td>1</td>\n",
       "      <td>TrialState.COMPLETE</td>\n",
       "      <td>0.3659</td>\n",
       "      <td>2019-10-19 15:21:22</td>\n",
       "      <td>2019-10-19 15:22:59</td>\n",
       "      <td>0.000019</td>\n",
       "      <td>1</td>\n",
       "    </tr>\n",
       "    <tr>\n",
       "      <th>2</th>\n",
       "      <td>2</td>\n",
       "      <td>TrialState.COMPLETE</td>\n",
       "      <td>0.8553</td>\n",
       "      <td>2019-10-19 15:21:23</td>\n",
       "      <td>2019-10-19 15:23:01</td>\n",
       "      <td>0.000217</td>\n",
       "      <td>2</td>\n",
       "    </tr>\n",
       "    <tr>\n",
       "      <th>3</th>\n",
       "      <td>3</td>\n",
       "      <td>TrialState.COMPLETE</td>\n",
       "      <td>0.8125</td>\n",
       "      <td>2019-10-19 15:21:24</td>\n",
       "      <td>2019-10-19 15:22:59</td>\n",
       "      <td>0.000183</td>\n",
       "      <td>3</td>\n",
       "    </tr>\n",
       "    <tr>\n",
       "      <th>4</th>\n",
       "      <td>4</td>\n",
       "      <td>TrialState.COMPLETE</td>\n",
       "      <td>0.3700</td>\n",
       "      <td>2019-10-19 15:21:28</td>\n",
       "      <td>2019-10-19 15:23:03</td>\n",
       "      <td>0.000015</td>\n",
       "      <td>4</td>\n",
       "    </tr>\n",
       "    <tr>\n",
       "      <th>5</th>\n",
       "      <td>5</td>\n",
       "      <td>TrialState.COMPLETE</td>\n",
       "      <td>0.5707</td>\n",
       "      <td>2019-10-19 15:23:15</td>\n",
       "      <td>2019-10-19 15:24:56</td>\n",
       "      <td>0.000031</td>\n",
       "      <td>5</td>\n",
       "    </tr>\n",
       "    <tr>\n",
       "      <th>6</th>\n",
       "      <td>6</td>\n",
       "      <td>TrialState.COMPLETE</td>\n",
       "      <td>0.8967</td>\n",
       "      <td>2019-10-19 15:23:16</td>\n",
       "      <td>2019-10-19 15:25:02</td>\n",
       "      <td>0.000576</td>\n",
       "      <td>6</td>\n",
       "    </tr>\n",
       "    <tr>\n",
       "      <th>7</th>\n",
       "      <td>7</td>\n",
       "      <td>TrialState.COMPLETE</td>\n",
       "      <td>0.9069</td>\n",
       "      <td>2019-10-19 15:23:17</td>\n",
       "      <td>2019-10-19 15:25:05</td>\n",
       "      <td>0.000753</td>\n",
       "      <td>7</td>\n",
       "    </tr>\n",
       "    <tr>\n",
       "      <th>8</th>\n",
       "      <td>8</td>\n",
       "      <td>TrialState.COMPLETE</td>\n",
       "      <td>0.7117</td>\n",
       "      <td>2019-10-19 15:23:18</td>\n",
       "      <td>2019-10-19 15:25:04</td>\n",
       "      <td>0.000068</td>\n",
       "      <td>8</td>\n",
       "    </tr>\n",
       "    <tr>\n",
       "      <th>9</th>\n",
       "      <td>9</td>\n",
       "      <td>TrialState.COMPLETE</td>\n",
       "      <td>0.8615</td>\n",
       "      <td>2019-10-19 15:23:19</td>\n",
       "      <td>2019-10-19 15:25:07</td>\n",
       "      <td>0.000275</td>\n",
       "      <td>9</td>\n",
       "    </tr>\n",
       "    <tr>\n",
       "      <th>10</th>\n",
       "      <td>10</td>\n",
       "      <td>TrialState.COMPLETE</td>\n",
       "      <td>0.8972</td>\n",
       "      <td>2019-10-19 15:25:20</td>\n",
       "      <td>2019-10-19 15:27:00</td>\n",
       "      <td>0.000583</td>\n",
       "      <td>10</td>\n",
       "    </tr>\n",
       "    <tr>\n",
       "      <th>11</th>\n",
       "      <td>11</td>\n",
       "      <td>TrialState.COMPLETE</td>\n",
       "      <td>0.9138</td>\n",
       "      <td>2019-10-19 15:25:31</td>\n",
       "      <td>2019-10-19 15:27:17</td>\n",
       "      <td>0.001000</td>\n",
       "      <td>11</td>\n",
       "    </tr>\n",
       "    <tr>\n",
       "      <th>12</th>\n",
       "      <td>12</td>\n",
       "      <td>TrialState.COMPLETE</td>\n",
       "      <td>0.9122</td>\n",
       "      <td>2019-10-19 15:25:32</td>\n",
       "      <td>2019-10-19 15:27:22</td>\n",
       "      <td>0.000973</td>\n",
       "      <td>12</td>\n",
       "    </tr>\n",
       "    <tr>\n",
       "      <th>13</th>\n",
       "      <td>13</td>\n",
       "      <td>TrialState.COMPLETE</td>\n",
       "      <td>0.9106</td>\n",
       "      <td>2019-10-19 15:25:32</td>\n",
       "      <td>2019-10-19 15:27:17</td>\n",
       "      <td>0.000921</td>\n",
       "      <td>13</td>\n",
       "    </tr>\n",
       "    <tr>\n",
       "      <th>14</th>\n",
       "      <td>14</td>\n",
       "      <td>TrialState.COMPLETE</td>\n",
       "      <td>0.9131</td>\n",
       "      <td>2019-10-19 15:25:34</td>\n",
       "      <td>2019-10-19 15:27:23</td>\n",
       "      <td>0.000983</td>\n",
       "      <td>14</td>\n",
       "    </tr>\n",
       "    <tr>\n",
       "      <th>15</th>\n",
       "      <td>15</td>\n",
       "      <td>TrialState.COMPLETE</td>\n",
       "      <td>0.8777</td>\n",
       "      <td>2019-10-19 15:27:38</td>\n",
       "      <td>2019-10-19 15:29:11</td>\n",
       "      <td>0.000346</td>\n",
       "      <td>15</td>\n",
       "    </tr>\n",
       "    <tr>\n",
       "      <th>16</th>\n",
       "      <td>16</td>\n",
       "      <td>TrialState.COMPLETE</td>\n",
       "      <td>0.8829</td>\n",
       "      <td>2019-10-19 15:27:41</td>\n",
       "      <td>2019-10-19 15:29:20</td>\n",
       "      <td>0.000377</td>\n",
       "      <td>16</td>\n",
       "    </tr>\n",
       "    <tr>\n",
       "      <th>17</th>\n",
       "      <td>17</td>\n",
       "      <td>TrialState.COMPLETE</td>\n",
       "      <td>0.8819</td>\n",
       "      <td>2019-10-19 15:27:41</td>\n",
       "      <td>2019-10-19 15:29:20</td>\n",
       "      <td>0.000390</td>\n",
       "      <td>17</td>\n",
       "    </tr>\n",
       "    <tr>\n",
       "      <th>18</th>\n",
       "      <td>18</td>\n",
       "      <td>TrialState.COMPLETE</td>\n",
       "      <td>0.8815</td>\n",
       "      <td>2019-10-19 15:27:56</td>\n",
       "      <td>2019-10-19 15:29:45</td>\n",
       "      <td>0.000348</td>\n",
       "      <td>18</td>\n",
       "    </tr>\n",
       "    <tr>\n",
       "      <th>19</th>\n",
       "      <td>19</td>\n",
       "      <td>TrialState.COMPLETE</td>\n",
       "      <td>0.8862</td>\n",
       "      <td>2019-10-19 15:27:57</td>\n",
       "      <td>2019-10-19 15:29:45</td>\n",
       "      <td>0.000367</td>\n",
       "      <td>19</td>\n",
       "    </tr>\n",
       "    <tr>\n",
       "      <th>20</th>\n",
       "      <td>20</td>\n",
       "      <td>TrialState.COMPLETE</td>\n",
       "      <td>0.6916</td>\n",
       "      <td>2019-10-19 15:29:45</td>\n",
       "      <td>2019-10-19 15:31:26</td>\n",
       "      <td>0.000075</td>\n",
       "      <td>20</td>\n",
       "    </tr>\n",
       "    <tr>\n",
       "      <th>21</th>\n",
       "      <td>21</td>\n",
       "      <td>TrialState.COMPLETE</td>\n",
       "      <td>0.6747</td>\n",
       "      <td>2019-10-19 15:29:50</td>\n",
       "      <td>2019-10-19 15:31:32</td>\n",
       "      <td>0.000070</td>\n",
       "      <td>21</td>\n",
       "    </tr>\n",
       "    <tr>\n",
       "      <th>22</th>\n",
       "      <td>22</td>\n",
       "      <td>TrialState.COMPLETE</td>\n",
       "      <td>0.7822</td>\n",
       "      <td>2019-10-19 15:29:50</td>\n",
       "      <td>2019-10-19 15:31:32</td>\n",
       "      <td>0.000114</td>\n",
       "      <td>22</td>\n",
       "    </tr>\n",
       "    <tr>\n",
       "      <th>23</th>\n",
       "      <td>23</td>\n",
       "      <td>TrialState.COMPLETE</td>\n",
       "      <td>0.7656</td>\n",
       "      <td>2019-10-19 15:30:22</td>\n",
       "      <td>2019-10-19 15:32:12</td>\n",
       "      <td>0.000108</td>\n",
       "      <td>23</td>\n",
       "    </tr>\n",
       "    <tr>\n",
       "      <th>24</th>\n",
       "      <td>24</td>\n",
       "      <td>TrialState.COMPLETE</td>\n",
       "      <td>0.7426</td>\n",
       "      <td>2019-10-19 15:30:22</td>\n",
       "      <td>2019-10-19 15:32:11</td>\n",
       "      <td>0.000097</td>\n",
       "      <td>24</td>\n",
       "    </tr>\n",
       "  </tbody>\n",
       "</table>\n",
       "</div>"
      ],
      "text/plain": [
       "   number                state   value      datetime_start  \\\n",
       "                                                             \n",
       "0       0  TrialState.COMPLETE  0.3413 2019-10-19 15:21:19   \n",
       "1       1  TrialState.COMPLETE  0.3659 2019-10-19 15:21:22   \n",
       "2       2  TrialState.COMPLETE  0.8553 2019-10-19 15:21:23   \n",
       "3       3  TrialState.COMPLETE  0.8125 2019-10-19 15:21:24   \n",
       "4       4  TrialState.COMPLETE  0.3700 2019-10-19 15:21:28   \n",
       "5       5  TrialState.COMPLETE  0.5707 2019-10-19 15:23:15   \n",
       "6       6  TrialState.COMPLETE  0.8967 2019-10-19 15:23:16   \n",
       "7       7  TrialState.COMPLETE  0.9069 2019-10-19 15:23:17   \n",
       "8       8  TrialState.COMPLETE  0.7117 2019-10-19 15:23:18   \n",
       "9       9  TrialState.COMPLETE  0.8615 2019-10-19 15:23:19   \n",
       "10     10  TrialState.COMPLETE  0.8972 2019-10-19 15:25:20   \n",
       "11     11  TrialState.COMPLETE  0.9138 2019-10-19 15:25:31   \n",
       "12     12  TrialState.COMPLETE  0.9122 2019-10-19 15:25:32   \n",
       "13     13  TrialState.COMPLETE  0.9106 2019-10-19 15:25:32   \n",
       "14     14  TrialState.COMPLETE  0.9131 2019-10-19 15:25:34   \n",
       "15     15  TrialState.COMPLETE  0.8777 2019-10-19 15:27:38   \n",
       "16     16  TrialState.COMPLETE  0.8829 2019-10-19 15:27:41   \n",
       "17     17  TrialState.COMPLETE  0.8819 2019-10-19 15:27:41   \n",
       "18     18  TrialState.COMPLETE  0.8815 2019-10-19 15:27:56   \n",
       "19     19  TrialState.COMPLETE  0.8862 2019-10-19 15:27:57   \n",
       "20     20  TrialState.COMPLETE  0.6916 2019-10-19 15:29:45   \n",
       "21     21  TrialState.COMPLETE  0.6747 2019-10-19 15:29:50   \n",
       "22     22  TrialState.COMPLETE  0.7822 2019-10-19 15:29:50   \n",
       "23     23  TrialState.COMPLETE  0.7656 2019-10-19 15:30:22   \n",
       "24     24  TrialState.COMPLETE  0.7426 2019-10-19 15:30:22   \n",
       "\n",
       "     datetime_complete    params system_attrs  \n",
       "                               c      _number  \n",
       "0  2019-10-19 15:22:49  0.000018            0  \n",
       "1  2019-10-19 15:22:59  0.000019            1  \n",
       "2  2019-10-19 15:23:01  0.000217            2  \n",
       "3  2019-10-19 15:22:59  0.000183            3  \n",
       "4  2019-10-19 15:23:03  0.000015            4  \n",
       "5  2019-10-19 15:24:56  0.000031            5  \n",
       "6  2019-10-19 15:25:02  0.000576            6  \n",
       "7  2019-10-19 15:25:05  0.000753            7  \n",
       "8  2019-10-19 15:25:04  0.000068            8  \n",
       "9  2019-10-19 15:25:07  0.000275            9  \n",
       "10 2019-10-19 15:27:00  0.000583           10  \n",
       "11 2019-10-19 15:27:17  0.001000           11  \n",
       "12 2019-10-19 15:27:22  0.000973           12  \n",
       "13 2019-10-19 15:27:17  0.000921           13  \n",
       "14 2019-10-19 15:27:23  0.000983           14  \n",
       "15 2019-10-19 15:29:11  0.000346           15  \n",
       "16 2019-10-19 15:29:20  0.000377           16  \n",
       "17 2019-10-19 15:29:20  0.000390           17  \n",
       "18 2019-10-19 15:29:45  0.000348           18  \n",
       "19 2019-10-19 15:29:45  0.000367           19  \n",
       "20 2019-10-19 15:31:26  0.000075           20  \n",
       "21 2019-10-19 15:31:32  0.000070           21  \n",
       "22 2019-10-19 15:31:32  0.000114           22  \n",
       "23 2019-10-19 15:32:12  0.000108           23  \n",
       "24 2019-10-19 15:32:11  0.000097           24  "
      ]
     },
     "execution_count": 21,
     "metadata": {},
     "output_type": "execute_result"
    }
   ],
   "source": [
    "study = optuna.load_study(study_name='keras-mnist', storage=\"mysql+mysqlconnector://{0}:{1}@{2}/{3}\".format(user, password, host, dbname))\n",
    "df = study.trials_dataframe()\n",
    "df"
   ]
  },
  {
   "cell_type": "code",
   "execution_count": 22,
   "metadata": {},
   "outputs": [
    {
     "data": {
      "text/plain": [
       "{'optuna-keras-mnist_1571498077_8f431746': {'Final test accuracy': [0.8125,\n",
       "   0.7117000222206116,\n",
       "   0.9138000011444092,\n",
       "   0.8828999996185303,\n",
       "   0.7821999788284302]},\n",
       " 'optuna-keras-mnist_1571498091_f17e3718': {'Final test accuracy': [0.34130001068115234,\n",
       "   0.5706999897956848,\n",
       "   0.8971999883651733,\n",
       "   0.8776999711990356,\n",
       "   0.6916000247001648]},\n",
       " 'optuna-keras-mnist_1571498104_a75ee4a4': {'Final test accuracy': [0.3659000098705292,\n",
       "   0.8615000247955322,\n",
       "   0.913100004196167,\n",
       "   0.8862000107765198,\n",
       "   0.7426000237464905]},\n",
       " 'optuna-keras-mnist_1571498116_901b591b': {'Final test accuracy': [0.8553000092506409,\n",
       "   0.9068999886512756,\n",
       "   0.9121999740600586,\n",
       "   0.8815000057220459,\n",
       "   0.7656000256538391]},\n",
       " 'optuna-keras-mnist_1571498127_93d08f03': {'Final test accuracy': [0.3700000047683716,\n",
       "   0.8967000246047974,\n",
       "   0.9106000065803528,\n",
       "   0.8819000124931335,\n",
       "   0.6747000217437744]}}"
      ]
     },
     "execution_count": 22,
     "metadata": {},
     "output_type": "execute_result"
    }
   ],
   "source": [
    "optuna_run.get_metrics(name=\"Final test accuracy\", recursive=True)"
   ]
  },
  {
   "cell_type": "markdown",
   "metadata": {},
   "source": [
    "## 実行メトリックの取得終了"
   ]
  },
  {
   "cell_type": "code",
   "execution_count": 23,
   "metadata": {},
   "outputs": [],
   "source": [
    "optuna_run.complete()"
   ]
  }
 ],
 "metadata": {
  "kernelspec": {
   "display_name": "optuna",
   "language": "python",
   "name": "optuna"
  },
  "language_info": {
   "codemirror_mode": {
    "name": "ipython",
    "version": 3
   },
   "file_extension": ".py",
   "mimetype": "text/x-python",
   "name": "python",
   "nbconvert_exporter": "python",
   "pygments_lexer": "ipython3",
   "version": "3.6.9"
  }
 },
 "nbformat": 4,
 "nbformat_minor": 2
}
